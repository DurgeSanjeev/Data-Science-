{
 "cells": [
  {
   "cell_type": "code",
   "execution_count": 109,
   "metadata": {},
   "outputs": [
    {
     "data": {
      "text/plain": [
       "{'last': 'Farhan', 'first': 'mustafa', 'email': 'Farhanmustafa@gmial.com'}"
      ]
     },
     "execution_count": 109,
     "metadata": {},
     "output_type": "execute_result"
    }
   ],
   "source": [
    "people={\"last\":\"Farhan\",\"first\":\"mustafa\",\"email\":\"Farhanmustafa@gmial.com\"}\n",
    "people"
   ]
  },
  {
   "cell_type": "code",
   "execution_count": 110,
   "metadata": {},
   "outputs": [
    {
     "data": {
      "text/plain": [
       "{'last': ['Farhan'],\n",
       " 'first': ['mustafa'],\n",
       " 'email': ['Farhanmustafa@gmial.com']}"
      ]
     },
     "execution_count": 110,
     "metadata": {},
     "output_type": "execute_result"
    }
   ],
   "source": [
    "people={\"last\":[\"Farhan\"],\"first\":[\"mustafa\"],\"email\":[\"Farhanmustafa@gmial.com\"]}\n",
    "people"
   ]
  },
  {
   "cell_type": "code",
   "execution_count": 111,
   "metadata": {},
   "outputs": [
    {
     "data": {
      "text/plain": [
       "{'firstname': ['Farhan', 'nishanth', 'akshay', 'sanchay'],\n",
       " 'lastname': ['mustafa', 'kumar', 'kumar', 'swaraj'],\n",
       " 'email': ['Farhanmustafa@gmial.com',\n",
       "  'nishantkumar@gmail.com',\n",
       "  'akshaykumar@gmail.com',\n",
       "  'sanchayswaraj@gmail.com']}"
      ]
     },
     "execution_count": 111,
     "metadata": {},
     "output_type": "execute_result"
    }
   ],
   "source": [
    "people={\"firstname\":[\"Farhan\",\"nishanth\",\"akshay\",\"sanchay\"],\"lastname\":[\"mustafa\",\"kumar\",\"kumar\",\"swaraj\"],\"email\":[\"Farhanmustafa@gmial.com\",\"nishantkumar@gmail.com\",\"akshaykumar@gmail.com\",\"sanchayswaraj@gmail.com\"]}\n",
    "people"
   ]
  },
  {
   "cell_type": "code",
   "execution_count": 112,
   "metadata": {},
   "outputs": [],
   "source": [
    "import pandas as pd"
   ]
  },
  {
   "cell_type": "code",
   "execution_count": 113,
   "metadata": {},
   "outputs": [
    {
     "data": {
      "text/html": [
       "<div>\n",
       "<style scoped>\n",
       "    .dataframe tbody tr th:only-of-type {\n",
       "        vertical-align: middle;\n",
       "    }\n",
       "\n",
       "    .dataframe tbody tr th {\n",
       "        vertical-align: top;\n",
       "    }\n",
       "\n",
       "    .dataframe thead th {\n",
       "        text-align: right;\n",
       "    }\n",
       "</style>\n",
       "<table border=\"1\" class=\"dataframe\">\n",
       "  <thead>\n",
       "    <tr style=\"text-align: right;\">\n",
       "      <th></th>\n",
       "      <th>firstname</th>\n",
       "      <th>lastname</th>\n",
       "      <th>email</th>\n",
       "    </tr>\n",
       "  </thead>\n",
       "  <tbody>\n",
       "    <tr>\n",
       "      <th>0</th>\n",
       "      <td>Farhan</td>\n",
       "      <td>mustafa</td>\n",
       "      <td>Farhanmustafa@gmial.com</td>\n",
       "    </tr>\n",
       "    <tr>\n",
       "      <th>1</th>\n",
       "      <td>nishanth</td>\n",
       "      <td>kumar</td>\n",
       "      <td>nishantkumar@gmail.com</td>\n",
       "    </tr>\n",
       "    <tr>\n",
       "      <th>2</th>\n",
       "      <td>akshay</td>\n",
       "      <td>kumar</td>\n",
       "      <td>akshaykumar@gmail.com</td>\n",
       "    </tr>\n",
       "    <tr>\n",
       "      <th>3</th>\n",
       "      <td>sanchay</td>\n",
       "      <td>swaraj</td>\n",
       "      <td>sanchayswaraj@gmail.com</td>\n",
       "    </tr>\n",
       "  </tbody>\n",
       "</table>\n",
       "</div>"
      ],
      "text/plain": [
       "  firstname lastname                    email\n",
       "0    Farhan  mustafa  Farhanmustafa@gmial.com\n",
       "1  nishanth    kumar   nishantkumar@gmail.com\n",
       "2    akshay    kumar    akshaykumar@gmail.com\n",
       "3   sanchay   swaraj  sanchayswaraj@gmail.com"
      ]
     },
     "execution_count": 113,
     "metadata": {},
     "output_type": "execute_result"
    }
   ],
   "source": [
    "df=pd.DataFrame(people)\n",
    "df"
   ]
  },
  {
   "cell_type": "code",
   "execution_count": 114,
   "metadata": {},
   "outputs": [
    {
     "data": {
      "text/plain": [
       "['Farhanmustafa@gmial.com',\n",
       " 'nishantkumar@gmail.com',\n",
       " 'akshaykumar@gmail.com',\n",
       " 'sanchayswaraj@gmail.com']"
      ]
     },
     "execution_count": 114,
     "metadata": {},
     "output_type": "execute_result"
    }
   ],
   "source": [
    "people[\"email\"]     #this returns list"
   ]
  },
  {
   "cell_type": "code",
   "execution_count": 115,
   "metadata": {},
   "outputs": [
    {
     "data": {
      "text/plain": [
       "0    Farhanmustafa@gmial.com\n",
       "1     nishantkumar@gmail.com\n",
       "2      akshaykumar@gmail.com\n",
       "3    sanchayswaraj@gmail.com\n",
       "Name: email, dtype: object"
      ]
     },
     "execution_count": 115,
     "metadata": {},
     "output_type": "execute_result"
    }
   ],
   "source": [
    "df[\"email\"]              #this returns the dataframe called as tabular form with indexes or seriesty"
   ]
  },
  {
   "cell_type": "code",
   "execution_count": 116,
   "metadata": {},
   "outputs": [
    {
     "data": {
      "text/plain": [
       "0    Farhanmustafa@gmial.com\n",
       "1     nishantkumar@gmail.com\n",
       "2      akshaykumar@gmail.com\n",
       "3    sanchayswaraj@gmail.com\n",
       "Name: email, dtype: object"
      ]
     },
     "execution_count": 116,
     "metadata": {},
     "output_type": "execute_result"
    }
   ],
   "source": [
    "df.email         #same as above"
   ]
  },
  {
   "cell_type": "code",
   "execution_count": 117,
   "metadata": {},
   "outputs": [
    {
     "data": {
      "text/plain": [
       "pandas.core.series.Series"
      ]
     },
     "execution_count": 117,
     "metadata": {},
     "output_type": "execute_result"
    }
   ],
   "source": [
    "type(df[\"email\"])   #it is series because series is list of dataframe in rows of a single column format with many features"
   ]
  },
  {
   "cell_type": "code",
   "execution_count": 118,
   "metadata": {},
   "outputs": [
    {
     "data": {
      "text/html": [
       "<div>\n",
       "<style scoped>\n",
       "    .dataframe tbody tr th:only-of-type {\n",
       "        vertical-align: middle;\n",
       "    }\n",
       "\n",
       "    .dataframe tbody tr th {\n",
       "        vertical-align: top;\n",
       "    }\n",
       "\n",
       "    .dataframe thead th {\n",
       "        text-align: right;\n",
       "    }\n",
       "</style>\n",
       "<table border=\"1\" class=\"dataframe\">\n",
       "  <thead>\n",
       "    <tr style=\"text-align: right;\">\n",
       "      <th></th>\n",
       "      <th>email</th>\n",
       "      <th>lastname</th>\n",
       "    </tr>\n",
       "  </thead>\n",
       "  <tbody>\n",
       "    <tr>\n",
       "      <th>0</th>\n",
       "      <td>Farhanmustafa@gmial.com</td>\n",
       "      <td>mustafa</td>\n",
       "    </tr>\n",
       "    <tr>\n",
       "      <th>1</th>\n",
       "      <td>nishantkumar@gmail.com</td>\n",
       "      <td>kumar</td>\n",
       "    </tr>\n",
       "    <tr>\n",
       "      <th>2</th>\n",
       "      <td>akshaykumar@gmail.com</td>\n",
       "      <td>kumar</td>\n",
       "    </tr>\n",
       "    <tr>\n",
       "      <th>3</th>\n",
       "      <td>sanchayswaraj@gmail.com</td>\n",
       "      <td>swaraj</td>\n",
       "    </tr>\n",
       "  </tbody>\n",
       "</table>\n",
       "</div>"
      ],
      "text/plain": [
       "                     email lastname\n",
       "0  Farhanmustafa@gmial.com  mustafa\n",
       "1   nishantkumar@gmail.com    kumar\n",
       "2    akshaykumar@gmail.com    kumar\n",
       "3  sanchayswaraj@gmail.com   swaraj"
      ]
     },
     "execution_count": 118,
     "metadata": {},
     "output_type": "execute_result"
    }
   ],
   "source": [
    "df[[\"email\",\"lastname\"]]"
   ]
  },
  {
   "cell_type": "code",
   "execution_count": 119,
   "metadata": {},
   "outputs": [
    {
     "data": {
      "text/plain": [
       "Index(['firstname', 'lastname', 'email'], dtype='object')"
      ]
     },
     "execution_count": 119,
     "metadata": {},
     "output_type": "execute_result"
    }
   ],
   "source": [
    "df.columns        #to access columns"
   ]
  },
  {
   "cell_type": "code",
   "execution_count": 120,
   "metadata": {},
   "outputs": [
    {
     "data": {
      "text/plain": [
       "firstname                    sanchay\n",
       "lastname                      swaraj\n",
       "email        sanchayswaraj@gmail.com\n",
       "Name: 3, dtype: object"
      ]
     },
     "execution_count": 120,
     "metadata": {},
     "output_type": "execute_result"
    }
   ],
   "source": [
    "df.iloc[3]       #as method says it is integerlocation we can access rows with this"
   ]
  },
  {
   "cell_type": "code",
   "execution_count": 121,
   "metadata": {},
   "outputs": [
    {
     "data": {
      "text/html": [
       "<div>\n",
       "<style scoped>\n",
       "    .dataframe tbody tr th:only-of-type {\n",
       "        vertical-align: middle;\n",
       "    }\n",
       "\n",
       "    .dataframe tbody tr th {\n",
       "        vertical-align: top;\n",
       "    }\n",
       "\n",
       "    .dataframe thead th {\n",
       "        text-align: right;\n",
       "    }\n",
       "</style>\n",
       "<table border=\"1\" class=\"dataframe\">\n",
       "  <thead>\n",
       "    <tr style=\"text-align: right;\">\n",
       "      <th></th>\n",
       "      <th>firstname</th>\n",
       "      <th>lastname</th>\n",
       "      <th>email</th>\n",
       "    </tr>\n",
       "  </thead>\n",
       "  <tbody>\n",
       "    <tr>\n",
       "      <th>1</th>\n",
       "      <td>nishanth</td>\n",
       "      <td>kumar</td>\n",
       "      <td>nishantkumar@gmail.com</td>\n",
       "    </tr>\n",
       "    <tr>\n",
       "      <th>2</th>\n",
       "      <td>akshay</td>\n",
       "      <td>kumar</td>\n",
       "      <td>akshaykumar@gmail.com</td>\n",
       "    </tr>\n",
       "  </tbody>\n",
       "</table>\n",
       "</div>"
      ],
      "text/plain": [
       "  firstname lastname                   email\n",
       "1  nishanth    kumar  nishantkumar@gmail.com\n",
       "2    akshay    kumar   akshaykumar@gmail.com"
      ]
     },
     "execution_count": 121,
     "metadata": {},
     "output_type": "execute_result"
    }
   ],
   "source": [
    "# df.iloc[1:3]         \n",
    "df.iloc[[1,2]]     #both gives the same output "
   ]
  },
  {
   "cell_type": "code",
   "execution_count": 122,
   "metadata": {},
   "outputs": [
    {
     "data": {
      "text/plain": [
       "1    nishantkumar@gmail.com\n",
       "2     akshaykumar@gmail.com\n",
       "Name: email, dtype: object"
      ]
     },
     "execution_count": 122,
     "metadata": {},
     "output_type": "execute_result"
    }
   ],
   "source": [
    "df.iloc[[1,2],2]    #here iloc[rows representated by integers.columns also rep. by integers]"
   ]
  },
  {
   "cell_type": "code",
   "execution_count": 123,
   "metadata": {},
   "outputs": [
    {
     "data": {
      "text/plain": [
       "1     nishantkumar@gmail.com\n",
       "3    sanchayswaraj@gmail.com\n",
       "Name: email, dtype: object"
      ]
     },
     "execution_count": 123,
     "metadata": {},
     "output_type": "execute_result"
    }
   ],
   "source": [
    "df.loc[[1,3],\"email\"] #here we can give labels "
   ]
  },
  {
   "cell_type": "code",
   "execution_count": 124,
   "metadata": {},
   "outputs": [
    {
     "data": {
      "text/plain": [
       "RangeIndex(start=0, stop=4, step=1)"
      ]
     },
     "execution_count": 124,
     "metadata": {},
     "output_type": "execute_result"
    }
   ],
   "source": [
    "df.index"
   ]
  },
  {
   "cell_type": "code",
   "execution_count": 125,
   "metadata": {},
   "outputs": [
    {
     "data": {
      "text/html": [
       "<div>\n",
       "<style scoped>\n",
       "    .dataframe tbody tr th:only-of-type {\n",
       "        vertical-align: middle;\n",
       "    }\n",
       "\n",
       "    .dataframe tbody tr th {\n",
       "        vertical-align: top;\n",
       "    }\n",
       "\n",
       "    .dataframe thead th {\n",
       "        text-align: right;\n",
       "    }\n",
       "</style>\n",
       "<table border=\"1\" class=\"dataframe\">\n",
       "  <thead>\n",
       "    <tr style=\"text-align: right;\">\n",
       "      <th></th>\n",
       "      <th>firstname</th>\n",
       "      <th>lastname</th>\n",
       "    </tr>\n",
       "    <tr>\n",
       "      <th>email</th>\n",
       "      <th></th>\n",
       "      <th></th>\n",
       "    </tr>\n",
       "  </thead>\n",
       "  <tbody>\n",
       "    <tr>\n",
       "      <th>Farhanmustafa@gmial.com</th>\n",
       "      <td>Farhan</td>\n",
       "      <td>mustafa</td>\n",
       "    </tr>\n",
       "    <tr>\n",
       "      <th>nishantkumar@gmail.com</th>\n",
       "      <td>nishanth</td>\n",
       "      <td>kumar</td>\n",
       "    </tr>\n",
       "    <tr>\n",
       "      <th>akshaykumar@gmail.com</th>\n",
       "      <td>akshay</td>\n",
       "      <td>kumar</td>\n",
       "    </tr>\n",
       "    <tr>\n",
       "      <th>sanchayswaraj@gmail.com</th>\n",
       "      <td>sanchay</td>\n",
       "      <td>swaraj</td>\n",
       "    </tr>\n",
       "  </tbody>\n",
       "</table>\n",
       "</div>"
      ],
      "text/plain": [
       "                        firstname lastname\n",
       "email                                     \n",
       "Farhanmustafa@gmial.com    Farhan  mustafa\n",
       "nishantkumar@gmail.com   nishanth    kumar\n",
       "akshaykumar@gmail.com      akshay    kumar\n",
       "sanchayswaraj@gmail.com   sanchay   swaraj"
      ]
     },
     "execution_count": 125,
     "metadata": {},
     "output_type": "execute_result"
    }
   ],
   "source": [
    "df.set_index(\"email\")   #this sets index as we wanted by specfing it in braces"
   ]
  },
  {
   "cell_type": "code",
   "execution_count": 126,
   "metadata": {},
   "outputs": [
    {
     "data": {
      "text/html": [
       "<div>\n",
       "<style scoped>\n",
       "    .dataframe tbody tr th:only-of-type {\n",
       "        vertical-align: middle;\n",
       "    }\n",
       "\n",
       "    .dataframe tbody tr th {\n",
       "        vertical-align: top;\n",
       "    }\n",
       "\n",
       "    .dataframe thead th {\n",
       "        text-align: right;\n",
       "    }\n",
       "</style>\n",
       "<table border=\"1\" class=\"dataframe\">\n",
       "  <thead>\n",
       "    <tr style=\"text-align: right;\">\n",
       "      <th></th>\n",
       "      <th>firstname</th>\n",
       "      <th>lastname</th>\n",
       "      <th>email</th>\n",
       "    </tr>\n",
       "  </thead>\n",
       "  <tbody>\n",
       "    <tr>\n",
       "      <th>0</th>\n",
       "      <td>Farhan</td>\n",
       "      <td>mustafa</td>\n",
       "      <td>Farhanmustafa@gmial.com</td>\n",
       "    </tr>\n",
       "    <tr>\n",
       "      <th>1</th>\n",
       "      <td>nishanth</td>\n",
       "      <td>kumar</td>\n",
       "      <td>nishantkumar@gmail.com</td>\n",
       "    </tr>\n",
       "    <tr>\n",
       "      <th>2</th>\n",
       "      <td>akshay</td>\n",
       "      <td>kumar</td>\n",
       "      <td>akshaykumar@gmail.com</td>\n",
       "    </tr>\n",
       "    <tr>\n",
       "      <th>3</th>\n",
       "      <td>sanchay</td>\n",
       "      <td>swaraj</td>\n",
       "      <td>sanchayswaraj@gmail.com</td>\n",
       "    </tr>\n",
       "  </tbody>\n",
       "</table>\n",
       "</div>"
      ],
      "text/plain": [
       "  firstname lastname                    email\n",
       "0    Farhan  mustafa  Farhanmustafa@gmial.com\n",
       "1  nishanth    kumar   nishantkumar@gmail.com\n",
       "2    akshay    kumar    akshaykumar@gmail.com\n",
       "3   sanchay   swaraj  sanchayswaraj@gmail.com"
      ]
     },
     "execution_count": 126,
     "metadata": {},
     "output_type": "execute_result"
    }
   ],
   "source": [
    "df              #but it doesn't change the actual dataframe"
   ]
  },
  {
   "cell_type": "code",
   "execution_count": 127,
   "metadata": {},
   "outputs": [],
   "source": [
    "df.set_index(\"email\",inplace=True)      #tp change original Dataframe we have to use \"inplace=True\""
   ]
  },
  {
   "cell_type": "code",
   "execution_count": 128,
   "metadata": {},
   "outputs": [
    {
     "data": {
      "text/html": [
       "<div>\n",
       "<style scoped>\n",
       "    .dataframe tbody tr th:only-of-type {\n",
       "        vertical-align: middle;\n",
       "    }\n",
       "\n",
       "    .dataframe tbody tr th {\n",
       "        vertical-align: top;\n",
       "    }\n",
       "\n",
       "    .dataframe thead th {\n",
       "        text-align: right;\n",
       "    }\n",
       "</style>\n",
       "<table border=\"1\" class=\"dataframe\">\n",
       "  <thead>\n",
       "    <tr style=\"text-align: right;\">\n",
       "      <th></th>\n",
       "      <th>firstname</th>\n",
       "      <th>lastname</th>\n",
       "    </tr>\n",
       "    <tr>\n",
       "      <th>email</th>\n",
       "      <th></th>\n",
       "      <th></th>\n",
       "    </tr>\n",
       "  </thead>\n",
       "  <tbody>\n",
       "    <tr>\n",
       "      <th>Farhanmustafa@gmial.com</th>\n",
       "      <td>Farhan</td>\n",
       "      <td>mustafa</td>\n",
       "    </tr>\n",
       "    <tr>\n",
       "      <th>nishantkumar@gmail.com</th>\n",
       "      <td>nishanth</td>\n",
       "      <td>kumar</td>\n",
       "    </tr>\n",
       "    <tr>\n",
       "      <th>akshaykumar@gmail.com</th>\n",
       "      <td>akshay</td>\n",
       "      <td>kumar</td>\n",
       "    </tr>\n",
       "    <tr>\n",
       "      <th>sanchayswaraj@gmail.com</th>\n",
       "      <td>sanchay</td>\n",
       "      <td>swaraj</td>\n",
       "    </tr>\n",
       "  </tbody>\n",
       "</table>\n",
       "</div>"
      ],
      "text/plain": [
       "                        firstname lastname\n",
       "email                                     \n",
       "Farhanmustafa@gmial.com    Farhan  mustafa\n",
       "nishantkumar@gmail.com   nishanth    kumar\n",
       "akshaykumar@gmail.com      akshay    kumar\n",
       "sanchayswaraj@gmail.com   sanchay   swaraj"
      ]
     },
     "execution_count": 128,
     "metadata": {},
     "output_type": "execute_result"
    }
   ],
   "source": [
    "df"
   ]
  },
  {
   "cell_type": "code",
   "execution_count": 129,
   "metadata": {},
   "outputs": [],
   "source": [
    "df.reset_index(inplace=True) #this resets the whole dataframe as the original one"
   ]
  },
  {
   "cell_type": "code",
   "execution_count": 130,
   "metadata": {},
   "outputs": [
    {
     "data": {
      "text/html": [
       "<div>\n",
       "<style scoped>\n",
       "    .dataframe tbody tr th:only-of-type {\n",
       "        vertical-align: middle;\n",
       "    }\n",
       "\n",
       "    .dataframe tbody tr th {\n",
       "        vertical-align: top;\n",
       "    }\n",
       "\n",
       "    .dataframe thead th {\n",
       "        text-align: right;\n",
       "    }\n",
       "</style>\n",
       "<table border=\"1\" class=\"dataframe\">\n",
       "  <thead>\n",
       "    <tr style=\"text-align: right;\">\n",
       "      <th></th>\n",
       "      <th>email</th>\n",
       "      <th>firstname</th>\n",
       "      <th>lastname</th>\n",
       "    </tr>\n",
       "  </thead>\n",
       "  <tbody>\n",
       "    <tr>\n",
       "      <th>0</th>\n",
       "      <td>Farhanmustafa@gmial.com</td>\n",
       "      <td>Farhan</td>\n",
       "      <td>mustafa</td>\n",
       "    </tr>\n",
       "    <tr>\n",
       "      <th>1</th>\n",
       "      <td>nishantkumar@gmail.com</td>\n",
       "      <td>nishanth</td>\n",
       "      <td>kumar</td>\n",
       "    </tr>\n",
       "    <tr>\n",
       "      <th>2</th>\n",
       "      <td>akshaykumar@gmail.com</td>\n",
       "      <td>akshay</td>\n",
       "      <td>kumar</td>\n",
       "    </tr>\n",
       "    <tr>\n",
       "      <th>3</th>\n",
       "      <td>sanchayswaraj@gmail.com</td>\n",
       "      <td>sanchay</td>\n",
       "      <td>swaraj</td>\n",
       "    </tr>\n",
       "  </tbody>\n",
       "</table>\n",
       "</div>"
      ],
      "text/plain": [
       "                     email firstname lastname\n",
       "0  Farhanmustafa@gmial.com    Farhan  mustafa\n",
       "1   nishantkumar@gmail.com  nishanth    kumar\n",
       "2    akshaykumar@gmail.com    akshay    kumar\n",
       "3  sanchayswaraj@gmail.com   sanchay   swaraj"
      ]
     },
     "execution_count": 130,
     "metadata": {},
     "output_type": "execute_result"
    }
   ],
   "source": [
    "df"
   ]
  },
  {
   "cell_type": "code",
   "execution_count": 131,
   "metadata": {},
   "outputs": [
    {
     "data": {
      "text/plain": [
       "0    False\n",
       "1     True\n",
       "2     True\n",
       "3    False\n",
       "Name: lastname, dtype: bool"
      ]
     },
     "execution_count": 131,
     "metadata": {},
     "output_type": "execute_result"
    }
   ],
   "source": [
    "df[\"lastname\"]==\"kumar\""
   ]
  },
  {
   "cell_type": "code",
   "execution_count": 132,
   "metadata": {},
   "outputs": [
    {
     "data": {
      "text/plain": [
       "1    nishantkumar@gmail.com\n",
       "2     akshaykumar@gmail.com\n",
       "Name: email, dtype: object"
      ]
     },
     "execution_count": 132,
     "metadata": {},
     "output_type": "execute_result"
    }
   ],
   "source": [
    "df.loc[df[\"lastname\"]==\"kumar\",\"email\"]"
   ]
  },
  {
   "cell_type": "code",
   "execution_count": 133,
   "metadata": {},
   "outputs": [],
   "source": [
    "f1=(df[\"firstname\"]==\"sanchay\") & (df[\"lastname\"]==\"swaraj\")"
   ]
  },
  {
   "cell_type": "code",
   "execution_count": 134,
   "metadata": {},
   "outputs": [
    {
     "data": {
      "text/plain": [
       "3    sanchayswaraj@gmail.com\n",
       "Name: email, dtype: object"
      ]
     },
     "execution_count": 134,
     "metadata": {},
     "output_type": "execute_result"
    }
   ],
   "source": [
    "df.loc[f1,\"email\"]"
   ]
  },
  {
   "cell_type": "code",
   "execution_count": 135,
   "metadata": {},
   "outputs": [
    {
     "data": {
      "text/plain": [
       "0    Farhanmustafa@gmial.com\n",
       "1     nishantkumar@gmail.com\n",
       "2      akshaykumar@gmail.com\n",
       "Name: email, dtype: object"
      ]
     },
     "execution_count": 135,
     "metadata": {},
     "output_type": "execute_result"
    }
   ],
   "source": [
    "df.loc[~f1,\"email\"]"
   ]
  },
  {
   "cell_type": "code",
   "execution_count": 136,
   "metadata": {},
   "outputs": [
    {
     "data": {
      "text/plain": [
       "0    Farhanmustafa@gmial.com\n",
       "Name: email, dtype: object"
      ]
     },
     "execution_count": 136,
     "metadata": {},
     "output_type": "execute_result"
    }
   ],
   "source": [
    "f1=(df[\"firstname\"]==\"sanchay\") | (df[\"lastname\"]==\"kumar\")\n",
    "df.loc[~f1,\"email\"]"
   ]
  },
  {
   "cell_type": "code",
   "execution_count": 137,
   "metadata": {},
   "outputs": [],
   "source": [
    "df.columns = [\"email_id\",\"first\",\"last\"]\n"
   ]
  },
  {
   "cell_type": "code",
   "execution_count": 138,
   "metadata": {},
   "outputs": [
    {
     "data": {
      "text/html": [
       "<div>\n",
       "<style scoped>\n",
       "    .dataframe tbody tr th:only-of-type {\n",
       "        vertical-align: middle;\n",
       "    }\n",
       "\n",
       "    .dataframe tbody tr th {\n",
       "        vertical-align: top;\n",
       "    }\n",
       "\n",
       "    .dataframe thead th {\n",
       "        text-align: right;\n",
       "    }\n",
       "</style>\n",
       "<table border=\"1\" class=\"dataframe\">\n",
       "  <thead>\n",
       "    <tr style=\"text-align: right;\">\n",
       "      <th></th>\n",
       "      <th>email_id</th>\n",
       "      <th>first</th>\n",
       "      <th>last</th>\n",
       "    </tr>\n",
       "  </thead>\n",
       "  <tbody>\n",
       "    <tr>\n",
       "      <th>0</th>\n",
       "      <td>Farhanmustafa@gmial.com</td>\n",
       "      <td>Farhan</td>\n",
       "      <td>mustafa</td>\n",
       "    </tr>\n",
       "    <tr>\n",
       "      <th>1</th>\n",
       "      <td>nishantkumar@gmail.com</td>\n",
       "      <td>nishanth</td>\n",
       "      <td>kumar</td>\n",
       "    </tr>\n",
       "    <tr>\n",
       "      <th>2</th>\n",
       "      <td>akshaykumar@gmail.com</td>\n",
       "      <td>akshay</td>\n",
       "      <td>kumar</td>\n",
       "    </tr>\n",
       "    <tr>\n",
       "      <th>3</th>\n",
       "      <td>sanchayswaraj@gmail.com</td>\n",
       "      <td>sanchay</td>\n",
       "      <td>swaraj</td>\n",
       "    </tr>\n",
       "  </tbody>\n",
       "</table>\n",
       "</div>"
      ],
      "text/plain": [
       "                  email_id     first     last\n",
       "0  Farhanmustafa@gmial.com    Farhan  mustafa\n",
       "1   nishantkumar@gmail.com  nishanth    kumar\n",
       "2    akshaykumar@gmail.com    akshay    kumar\n",
       "3  sanchayswaraj@gmail.com   sanchay   swaraj"
      ]
     },
     "execution_count": 138,
     "metadata": {},
     "output_type": "execute_result"
    }
   ],
   "source": [
    "df"
   ]
  },
  {
   "cell_type": "code",
   "execution_count": 139,
   "metadata": {},
   "outputs": [
    {
     "data": {
      "text/html": [
       "<div>\n",
       "<style scoped>\n",
       "    .dataframe tbody tr th:only-of-type {\n",
       "        vertical-align: middle;\n",
       "    }\n",
       "\n",
       "    .dataframe tbody tr th {\n",
       "        vertical-align: top;\n",
       "    }\n",
       "\n",
       "    .dataframe thead th {\n",
       "        text-align: right;\n",
       "    }\n",
       "</style>\n",
       "<table border=\"1\" class=\"dataframe\">\n",
       "  <thead>\n",
       "    <tr style=\"text-align: right;\">\n",
       "      <th></th>\n",
       "      <th>EMAIL_ID</th>\n",
       "      <th>FIRST</th>\n",
       "      <th>LAST</th>\n",
       "    </tr>\n",
       "  </thead>\n",
       "  <tbody>\n",
       "    <tr>\n",
       "      <th>0</th>\n",
       "      <td>Farhanmustafa@gmial.com</td>\n",
       "      <td>Farhan</td>\n",
       "      <td>mustafa</td>\n",
       "    </tr>\n",
       "    <tr>\n",
       "      <th>1</th>\n",
       "      <td>nishantkumar@gmail.com</td>\n",
       "      <td>nishanth</td>\n",
       "      <td>kumar</td>\n",
       "    </tr>\n",
       "    <tr>\n",
       "      <th>2</th>\n",
       "      <td>akshaykumar@gmail.com</td>\n",
       "      <td>akshay</td>\n",
       "      <td>kumar</td>\n",
       "    </tr>\n",
       "    <tr>\n",
       "      <th>3</th>\n",
       "      <td>sanchayswaraj@gmail.com</td>\n",
       "      <td>sanchay</td>\n",
       "      <td>swaraj</td>\n",
       "    </tr>\n",
       "  </tbody>\n",
       "</table>\n",
       "</div>"
      ],
      "text/plain": [
       "                  EMAIL_ID     FIRST     LAST\n",
       "0  Farhanmustafa@gmial.com    Farhan  mustafa\n",
       "1   nishantkumar@gmail.com  nishanth    kumar\n",
       "2    akshaykumar@gmail.com    akshay    kumar\n",
       "3  sanchayswaraj@gmail.com   sanchay   swaraj"
      ]
     },
     "execution_count": 139,
     "metadata": {},
     "output_type": "execute_result"
    }
   ],
   "source": [
    "df.columns=[x.upper() for x in df.columns]       #here we made all columns in uppercase\n",
    "df"
   ]
  },
  {
   "cell_type": "code",
   "execution_count": 140,
   "metadata": {},
   "outputs": [
    {
     "data": {
      "text/html": [
       "<div>\n",
       "<style scoped>\n",
       "    .dataframe tbody tr th:only-of-type {\n",
       "        vertical-align: middle;\n",
       "    }\n",
       "\n",
       "    .dataframe tbody tr th {\n",
       "        vertical-align: top;\n",
       "    }\n",
       "\n",
       "    .dataframe thead th {\n",
       "        text-align: right;\n",
       "    }\n",
       "</style>\n",
       "<table border=\"1\" class=\"dataframe\">\n",
       "  <thead>\n",
       "    <tr style=\"text-align: right;\">\n",
       "      <th></th>\n",
       "      <th>EMAIL ID</th>\n",
       "      <th>FIRST</th>\n",
       "      <th>LAST</th>\n",
       "    </tr>\n",
       "  </thead>\n",
       "  <tbody>\n",
       "    <tr>\n",
       "      <th>0</th>\n",
       "      <td>Farhanmustafa@gmial.com</td>\n",
       "      <td>Farhan</td>\n",
       "      <td>mustafa</td>\n",
       "    </tr>\n",
       "    <tr>\n",
       "      <th>1</th>\n",
       "      <td>nishantkumar@gmail.com</td>\n",
       "      <td>nishanth</td>\n",
       "      <td>kumar</td>\n",
       "    </tr>\n",
       "    <tr>\n",
       "      <th>2</th>\n",
       "      <td>akshaykumar@gmail.com</td>\n",
       "      <td>akshay</td>\n",
       "      <td>kumar</td>\n",
       "    </tr>\n",
       "    <tr>\n",
       "      <th>3</th>\n",
       "      <td>sanchayswaraj@gmail.com</td>\n",
       "      <td>sanchay</td>\n",
       "      <td>swaraj</td>\n",
       "    </tr>\n",
       "  </tbody>\n",
       "</table>\n",
       "</div>"
      ],
      "text/plain": [
       "                  EMAIL ID     FIRST     LAST\n",
       "0  Farhanmustafa@gmial.com    Farhan  mustafa\n",
       "1   nishantkumar@gmail.com  nishanth    kumar\n",
       "2    akshaykumar@gmail.com    akshay    kumar\n",
       "3  sanchayswaraj@gmail.com   sanchay   swaraj"
      ]
     },
     "execution_count": 140,
     "metadata": {},
     "output_type": "execute_result"
    }
   ],
   "source": [
    "df.columns = df.columns.str.replace('_',' ')    #here we replaced the underscore with space\n",
    "df"
   ]
  },
  {
   "cell_type": "code",
   "execution_count": 141,
   "metadata": {},
   "outputs": [
    {
     "data": {
      "text/html": [
       "<div>\n",
       "<style scoped>\n",
       "    .dataframe tbody tr th:only-of-type {\n",
       "        vertical-align: middle;\n",
       "    }\n",
       "\n",
       "    .dataframe tbody tr th {\n",
       "        vertical-align: top;\n",
       "    }\n",
       "\n",
       "    .dataframe thead th {\n",
       "        text-align: right;\n",
       "    }\n",
       "</style>\n",
       "<table border=\"1\" class=\"dataframe\">\n",
       "  <thead>\n",
       "    <tr style=\"text-align: right;\">\n",
       "      <th></th>\n",
       "      <th>email_id</th>\n",
       "      <th>first</th>\n",
       "      <th>last</th>\n",
       "    </tr>\n",
       "  </thead>\n",
       "  <tbody>\n",
       "    <tr>\n",
       "      <th>0</th>\n",
       "      <td>Farhanmustafa@gmial.com</td>\n",
       "      <td>Farhan</td>\n",
       "      <td>mustafa</td>\n",
       "    </tr>\n",
       "    <tr>\n",
       "      <th>1</th>\n",
       "      <td>nishantkumar@gmail.com</td>\n",
       "      <td>nishanth</td>\n",
       "      <td>kumar</td>\n",
       "    </tr>\n",
       "    <tr>\n",
       "      <th>2</th>\n",
       "      <td>akshaykumar@gmail.com</td>\n",
       "      <td>akshay</td>\n",
       "      <td>kumar</td>\n",
       "    </tr>\n",
       "    <tr>\n",
       "      <th>3</th>\n",
       "      <td>sanchayswaraj@gmail.com</td>\n",
       "      <td>sanchay</td>\n",
       "      <td>swaraj</td>\n",
       "    </tr>\n",
       "  </tbody>\n",
       "</table>\n",
       "</div>"
      ],
      "text/plain": [
       "                  email_id     first     last\n",
       "0  Farhanmustafa@gmial.com    Farhan  mustafa\n",
       "1   nishantkumar@gmail.com  nishanth    kumar\n",
       "2    akshaykumar@gmail.com    akshay    kumar\n",
       "3  sanchayswaraj@gmail.com   sanchay   swaraj"
      ]
     },
     "execution_count": 141,
     "metadata": {},
     "output_type": "execute_result"
    }
   ],
   "source": [
    "df.columns=[x.lower() for x in df.columns]    \n",
    "df.columns = df.columns.str.replace(' ','_') \n",
    "df"
   ]
  },
  {
   "cell_type": "code",
   "execution_count": 142,
   "metadata": {},
   "outputs": [],
   "source": [
    "df.rename(columns={'first':'first_name','last':'last_name'},inplace=True)"
   ]
  },
  {
   "cell_type": "code",
   "execution_count": 143,
   "metadata": {},
   "outputs": [
    {
     "data": {
      "text/html": [
       "<div>\n",
       "<style scoped>\n",
       "    .dataframe tbody tr th:only-of-type {\n",
       "        vertical-align: middle;\n",
       "    }\n",
       "\n",
       "    .dataframe tbody tr th {\n",
       "        vertical-align: top;\n",
       "    }\n",
       "\n",
       "    .dataframe thead th {\n",
       "        text-align: right;\n",
       "    }\n",
       "</style>\n",
       "<table border=\"1\" class=\"dataframe\">\n",
       "  <thead>\n",
       "    <tr style=\"text-align: right;\">\n",
       "      <th></th>\n",
       "      <th>email_id</th>\n",
       "      <th>first_name</th>\n",
       "      <th>last_name</th>\n",
       "    </tr>\n",
       "  </thead>\n",
       "  <tbody>\n",
       "    <tr>\n",
       "      <th>0</th>\n",
       "      <td>Farhanmustafa@gmial.com</td>\n",
       "      <td>Farhan</td>\n",
       "      <td>mustafa</td>\n",
       "    </tr>\n",
       "    <tr>\n",
       "      <th>1</th>\n",
       "      <td>nishantkumar@gmail.com</td>\n",
       "      <td>nishanth</td>\n",
       "      <td>kumar</td>\n",
       "    </tr>\n",
       "    <tr>\n",
       "      <th>2</th>\n",
       "      <td>akshaykumar@gmail.com</td>\n",
       "      <td>akshay</td>\n",
       "      <td>kumar</td>\n",
       "    </tr>\n",
       "    <tr>\n",
       "      <th>3</th>\n",
       "      <td>sanchayswaraj@gmail.com</td>\n",
       "      <td>sanchay</td>\n",
       "      <td>swaraj</td>\n",
       "    </tr>\n",
       "  </tbody>\n",
       "</table>\n",
       "</div>"
      ],
      "text/plain": [
       "                  email_id first_name last_name\n",
       "0  Farhanmustafa@gmial.com     Farhan   mustafa\n",
       "1   nishantkumar@gmail.com   nishanth     kumar\n",
       "2    akshaykumar@gmail.com     akshay     kumar\n",
       "3  sanchayswaraj@gmail.com    sanchay    swaraj"
      ]
     },
     "execution_count": 143,
     "metadata": {},
     "output_type": "execute_result"
    }
   ],
   "source": [
    "df"
   ]
  },
  {
   "cell_type": "code",
   "execution_count": 144,
   "metadata": {},
   "outputs": [
    {
     "data": {
      "text/html": [
       "<div>\n",
       "<style scoped>\n",
       "    .dataframe tbody tr th:only-of-type {\n",
       "        vertical-align: middle;\n",
       "    }\n",
       "\n",
       "    .dataframe tbody tr th {\n",
       "        vertical-align: top;\n",
       "    }\n",
       "\n",
       "    .dataframe thead th {\n",
       "        text-align: right;\n",
       "    }\n",
       "</style>\n",
       "<table border=\"1\" class=\"dataframe\">\n",
       "  <thead>\n",
       "    <tr style=\"text-align: right;\">\n",
       "      <th></th>\n",
       "      <th>email_id</th>\n",
       "      <th>first_name</th>\n",
       "      <th>last_name</th>\n",
       "    </tr>\n",
       "  </thead>\n",
       "  <tbody>\n",
       "    <tr>\n",
       "      <th>0</th>\n",
       "      <td>Farhanmustafa@gmial.com</td>\n",
       "      <td>Farhan</td>\n",
       "      <td>mustafa</td>\n",
       "    </tr>\n",
       "    <tr>\n",
       "      <th>1</th>\n",
       "      <td>nishantraghava@gmail.com</td>\n",
       "      <td>nishanth</td>\n",
       "      <td>raghava</td>\n",
       "    </tr>\n",
       "    <tr>\n",
       "      <th>2</th>\n",
       "      <td>akshaykumar@gmail.com</td>\n",
       "      <td>akshay</td>\n",
       "      <td>kumar</td>\n",
       "    </tr>\n",
       "    <tr>\n",
       "      <th>3</th>\n",
       "      <td>sanchayswaraj@gmail.com</td>\n",
       "      <td>sanchay</td>\n",
       "      <td>swaraj</td>\n",
       "    </tr>\n",
       "  </tbody>\n",
       "</table>\n",
       "</div>"
      ],
      "text/plain": [
       "                   email_id first_name last_name\n",
       "0   Farhanmustafa@gmial.com     Farhan   mustafa\n",
       "1  nishantraghava@gmail.com   nishanth   raghava\n",
       "2     akshaykumar@gmail.com     akshay     kumar\n",
       "3   sanchayswaraj@gmail.com    sanchay    swaraj"
      ]
     },
     "execution_count": 144,
     "metadata": {},
     "output_type": "execute_result"
    }
   ],
   "source": [
    "df.loc[1]=['nishantraghava@gmail.com','nishanth','raghava']\n",
    "df"
   ]
  },
  {
   "cell_type": "code",
   "execution_count": 145,
   "metadata": {},
   "outputs": [
    {
     "data": {
      "text/html": [
       "<div>\n",
       "<style scoped>\n",
       "    .dataframe tbody tr th:only-of-type {\n",
       "        vertical-align: middle;\n",
       "    }\n",
       "\n",
       "    .dataframe tbody tr th {\n",
       "        vertical-align: top;\n",
       "    }\n",
       "\n",
       "    .dataframe thead th {\n",
       "        text-align: right;\n",
       "    }\n",
       "</style>\n",
       "<table border=\"1\" class=\"dataframe\">\n",
       "  <thead>\n",
       "    <tr style=\"text-align: right;\">\n",
       "      <th></th>\n",
       "      <th>email_id</th>\n",
       "      <th>first_name</th>\n",
       "      <th>last_name</th>\n",
       "    </tr>\n",
       "  </thead>\n",
       "  <tbody>\n",
       "    <tr>\n",
       "      <th>0</th>\n",
       "      <td>Farhanmustafa@gmial.com</td>\n",
       "      <td>Farhan</td>\n",
       "      <td>mustafa</td>\n",
       "    </tr>\n",
       "    <tr>\n",
       "      <th>1</th>\n",
       "      <td>nishantraghava@gmail.com</td>\n",
       "      <td>nishanth</td>\n",
       "      <td>raghava</td>\n",
       "    </tr>\n",
       "    <tr>\n",
       "      <th>2</th>\n",
       "      <td>akshaykumar@gmail.com</td>\n",
       "      <td>akshay</td>\n",
       "      <td>kumar</td>\n",
       "    </tr>\n",
       "    <tr>\n",
       "      <th>3</th>\n",
       "      <td>sanchayswaraj@gmail.com</td>\n",
       "      <td>sanchay</td>\n",
       "      <td>swaraj</td>\n",
       "    </tr>\n",
       "  </tbody>\n",
       "</table>\n",
       "</div>"
      ],
      "text/plain": [
       "                   email_id first_name last_name\n",
       "0   Farhanmustafa@gmial.com     Farhan   mustafa\n",
       "1  nishantraghava@gmail.com   nishanth   raghava\n",
       "2     akshaykumar@gmail.com     akshay     kumar\n",
       "3   sanchayswaraj@gmail.com    sanchay    swaraj"
      ]
     },
     "execution_count": 145,
     "metadata": {},
     "output_type": "execute_result"
    }
   ],
   "source": [
    "df.at[2,'email_id']='akshaykumar@gmail.com'    #.at can be used to modeify single values of row\n",
    "df"
   ]
  },
  {
   "cell_type": "code",
   "execution_count": 146,
   "metadata": {},
   "outputs": [
    {
     "data": {
      "text/html": [
       "<div>\n",
       "<style scoped>\n",
       "    .dataframe tbody tr th:only-of-type {\n",
       "        vertical-align: middle;\n",
       "    }\n",
       "\n",
       "    .dataframe tbody tr th {\n",
       "        vertical-align: top;\n",
       "    }\n",
       "\n",
       "    .dataframe thead th {\n",
       "        text-align: right;\n",
       "    }\n",
       "</style>\n",
       "<table border=\"1\" class=\"dataframe\">\n",
       "  <thead>\n",
       "    <tr style=\"text-align: right;\">\n",
       "      <th></th>\n",
       "      <th>email_id</th>\n",
       "      <th>first_name</th>\n",
       "      <th>last_name</th>\n",
       "    </tr>\n",
       "  </thead>\n",
       "  <tbody>\n",
       "    <tr>\n",
       "      <th>0</th>\n",
       "      <td>Farhanmustafa@gmial.com</td>\n",
       "      <td>Farhan</td>\n",
       "      <td>mustafa</td>\n",
       "    </tr>\n",
       "    <tr>\n",
       "      <th>1</th>\n",
       "      <td>nishanthkumar@gmail.com</td>\n",
       "      <td>nishanth</td>\n",
       "      <td>kumar</td>\n",
       "    </tr>\n",
       "    <tr>\n",
       "      <th>2</th>\n",
       "      <td>akshaykumar@gmail.com</td>\n",
       "      <td>akshay</td>\n",
       "      <td>kumar</td>\n",
       "    </tr>\n",
       "    <tr>\n",
       "      <th>3</th>\n",
       "      <td>sanchayswaraj@gmail.com</td>\n",
       "      <td>sanchay</td>\n",
       "      <td>swaraj</td>\n",
       "    </tr>\n",
       "  </tbody>\n",
       "</table>\n",
       "</div>"
      ],
      "text/plain": [
       "                  email_id first_name last_name\n",
       "0  Farhanmustafa@gmial.com     Farhan   mustafa\n",
       "1  nishanthkumar@gmail.com   nishanth     kumar\n",
       "2    akshaykumar@gmail.com     akshay     kumar\n",
       "3  sanchayswaraj@gmail.com    sanchay    swaraj"
      ]
     },
     "execution_count": 146,
     "metadata": {},
     "output_type": "execute_result"
    }
   ],
   "source": [
    "df.loc[1,['email_id','last_name']]=['nishanthkumar@gmail.com','kumar']\n",
    "df"
   ]
  },
  {
   "cell_type": "code",
   "execution_count": 147,
   "metadata": {},
   "outputs": [
    {
     "data": {
      "text/plain": [
       "0    FARHANMUSTAFA@GMIAL.COM\n",
       "1    NISHANTHKUMAR@GMAIL.COM\n",
       "2      AKSHAYKUMAR@GMAIL.COM\n",
       "3    SANCHAYSWARAJ@GMAIL.COM\n",
       "Name: email_id, dtype: object"
      ]
     },
     "execution_count": 147,
     "metadata": {},
     "output_type": "execute_result"
    }
   ],
   "source": [
    "df['email_id'].str.upper()"
   ]
  },
  {
   "cell_type": "code",
   "execution_count": 148,
   "metadata": {},
   "outputs": [
    {
     "data": {
      "text/html": [
       "<div>\n",
       "<style scoped>\n",
       "    .dataframe tbody tr th:only-of-type {\n",
       "        vertical-align: middle;\n",
       "    }\n",
       "\n",
       "    .dataframe tbody tr th {\n",
       "        vertical-align: top;\n",
       "    }\n",
       "\n",
       "    .dataframe thead th {\n",
       "        text-align: right;\n",
       "    }\n",
       "</style>\n",
       "<table border=\"1\" class=\"dataframe\">\n",
       "  <thead>\n",
       "    <tr style=\"text-align: right;\">\n",
       "      <th></th>\n",
       "      <th>email_id</th>\n",
       "      <th>first_name</th>\n",
       "      <th>last_name</th>\n",
       "    </tr>\n",
       "  </thead>\n",
       "  <tbody>\n",
       "    <tr>\n",
       "      <th>0</th>\n",
       "      <td>Farhanmustafa@gmial.com</td>\n",
       "      <td>Farhan</td>\n",
       "      <td>mustafa</td>\n",
       "    </tr>\n",
       "    <tr>\n",
       "      <th>1</th>\n",
       "      <td>nishanthkumar@gmail.com</td>\n",
       "      <td>nishanth</td>\n",
       "      <td>kumar</td>\n",
       "    </tr>\n",
       "    <tr>\n",
       "      <th>2</th>\n",
       "      <td>akshaykumar@gmail.com</td>\n",
       "      <td>akshay</td>\n",
       "      <td>kumar</td>\n",
       "    </tr>\n",
       "    <tr>\n",
       "      <th>3</th>\n",
       "      <td>sanchayswaraj@gmail.com</td>\n",
       "      <td>sanchay</td>\n",
       "      <td>swaraj</td>\n",
       "    </tr>\n",
       "  </tbody>\n",
       "</table>\n",
       "</div>"
      ],
      "text/plain": [
       "                  email_id first_name last_name\n",
       "0  Farhanmustafa@gmial.com     Farhan   mustafa\n",
       "1  nishanthkumar@gmail.com   nishanth     kumar\n",
       "2    akshaykumar@gmail.com     akshay     kumar\n",
       "3  sanchayswaraj@gmail.com    sanchay    swaraj"
      ]
     },
     "execution_count": 148,
     "metadata": {},
     "output_type": "execute_result"
    }
   ],
   "source": [
    "df"
   ]
  },
  {
   "cell_type": "code",
   "execution_count": 149,
   "metadata": {},
   "outputs": [
    {
     "data": {
      "text/plain": [
       "0    23\n",
       "1    23\n",
       "2    21\n",
       "3    23\n",
       "Name: email_id, dtype: int64"
      ]
     },
     "execution_count": 149,
     "metadata": {},
     "output_type": "execute_result"
    }
   ],
   "source": [
    "df['email_id'].apply(len)      #apply(len) here applies to whole series of email and returens length"
   ]
  },
  {
   "cell_type": "code",
   "execution_count": 150,
   "metadata": {},
   "outputs": [],
   "source": [
    "def upper_case(email_id):\n",
    "    return email_id.upper()"
   ]
  },
  {
   "cell_type": "code",
   "execution_count": 151,
   "metadata": {},
   "outputs": [
    {
     "data": {
      "text/plain": [
       "0    FARHANMUSTAFA@GMIAL.COM\n",
       "1    NISHANTHKUMAR@GMAIL.COM\n",
       "2      AKSHAYKUMAR@GMAIL.COM\n",
       "3    SANCHAYSWARAJ@GMAIL.COM\n",
       "Name: email_id, dtype: object"
      ]
     },
     "execution_count": 151,
     "metadata": {},
     "output_type": "execute_result"
    }
   ],
   "source": [
    "df['email_id'].apply(upper_case)"
   ]
  },
  {
   "cell_type": "code",
   "execution_count": 152,
   "metadata": {},
   "outputs": [],
   "source": [
    "df['email_id']=df['email_id'].apply(upper_case)"
   ]
  },
  {
   "cell_type": "code",
   "execution_count": 153,
   "metadata": {},
   "outputs": [
    {
     "data": {
      "text/html": [
       "<div>\n",
       "<style scoped>\n",
       "    .dataframe tbody tr th:only-of-type {\n",
       "        vertical-align: middle;\n",
       "    }\n",
       "\n",
       "    .dataframe tbody tr th {\n",
       "        vertical-align: top;\n",
       "    }\n",
       "\n",
       "    .dataframe thead th {\n",
       "        text-align: right;\n",
       "    }\n",
       "</style>\n",
       "<table border=\"1\" class=\"dataframe\">\n",
       "  <thead>\n",
       "    <tr style=\"text-align: right;\">\n",
       "      <th></th>\n",
       "      <th>email_id</th>\n",
       "      <th>first_name</th>\n",
       "      <th>last_name</th>\n",
       "    </tr>\n",
       "  </thead>\n",
       "  <tbody>\n",
       "    <tr>\n",
       "      <th>0</th>\n",
       "      <td>FARHANMUSTAFA@GMIAL.COM</td>\n",
       "      <td>Farhan</td>\n",
       "      <td>mustafa</td>\n",
       "    </tr>\n",
       "    <tr>\n",
       "      <th>1</th>\n",
       "      <td>NISHANTHKUMAR@GMAIL.COM</td>\n",
       "      <td>nishanth</td>\n",
       "      <td>kumar</td>\n",
       "    </tr>\n",
       "    <tr>\n",
       "      <th>2</th>\n",
       "      <td>AKSHAYKUMAR@GMAIL.COM</td>\n",
       "      <td>akshay</td>\n",
       "      <td>kumar</td>\n",
       "    </tr>\n",
       "    <tr>\n",
       "      <th>3</th>\n",
       "      <td>SANCHAYSWARAJ@GMAIL.COM</td>\n",
       "      <td>sanchay</td>\n",
       "      <td>swaraj</td>\n",
       "    </tr>\n",
       "  </tbody>\n",
       "</table>\n",
       "</div>"
      ],
      "text/plain": [
       "                  email_id first_name last_name\n",
       "0  FARHANMUSTAFA@GMIAL.COM     Farhan   mustafa\n",
       "1  NISHANTHKUMAR@GMAIL.COM   nishanth     kumar\n",
       "2    AKSHAYKUMAR@GMAIL.COM     akshay     kumar\n",
       "3  SANCHAYSWARAJ@GMAIL.COM    sanchay    swaraj"
      ]
     },
     "execution_count": 153,
     "metadata": {},
     "output_type": "execute_result"
    }
   ],
   "source": [
    "df"
   ]
  },
  {
   "cell_type": "code",
   "execution_count": 154,
   "metadata": {},
   "outputs": [
    {
     "data": {
      "text/html": [
       "<div>\n",
       "<style scoped>\n",
       "    .dataframe tbody tr th:only-of-type {\n",
       "        vertical-align: middle;\n",
       "    }\n",
       "\n",
       "    .dataframe tbody tr th {\n",
       "        vertical-align: top;\n",
       "    }\n",
       "\n",
       "    .dataframe thead th {\n",
       "        text-align: right;\n",
       "    }\n",
       "</style>\n",
       "<table border=\"1\" class=\"dataframe\">\n",
       "  <thead>\n",
       "    <tr style=\"text-align: right;\">\n",
       "      <th></th>\n",
       "      <th>email_id</th>\n",
       "      <th>first_name</th>\n",
       "      <th>last_name</th>\n",
       "    </tr>\n",
       "  </thead>\n",
       "  <tbody>\n",
       "    <tr>\n",
       "      <th>0</th>\n",
       "      <td>farhanmustafa@gmial.com</td>\n",
       "      <td>Farhan</td>\n",
       "      <td>mustafa</td>\n",
       "    </tr>\n",
       "    <tr>\n",
       "      <th>1</th>\n",
       "      <td>nishanthkumar@gmail.com</td>\n",
       "      <td>nishanth</td>\n",
       "      <td>kumar</td>\n",
       "    </tr>\n",
       "    <tr>\n",
       "      <th>2</th>\n",
       "      <td>akshaykumar@gmail.com</td>\n",
       "      <td>akshay</td>\n",
       "      <td>kumar</td>\n",
       "    </tr>\n",
       "    <tr>\n",
       "      <th>3</th>\n",
       "      <td>sanchayswaraj@gmail.com</td>\n",
       "      <td>sanchay</td>\n",
       "      <td>swaraj</td>\n",
       "    </tr>\n",
       "  </tbody>\n",
       "</table>\n",
       "</div>"
      ],
      "text/plain": [
       "                  email_id first_name last_name\n",
       "0  farhanmustafa@gmial.com     Farhan   mustafa\n",
       "1  nishanthkumar@gmail.com   nishanth     kumar\n",
       "2    akshaykumar@gmail.com     akshay     kumar\n",
       "3  sanchayswaraj@gmail.com    sanchay    swaraj"
      ]
     },
     "execution_count": 154,
     "metadata": {},
     "output_type": "execute_result"
    }
   ],
   "source": [
    "df['email_id']=df['email_id'].apply(lambda x:x.lower())\n",
    "df"
   ]
  },
  {
   "cell_type": "code",
   "execution_count": 155,
   "metadata": {},
   "outputs": [
    {
     "data": {
      "text/plain": [
       "email_id      4\n",
       "first_name    4\n",
       "last_name     4\n",
       "dtype: int64"
      ]
     },
     "execution_count": 155,
     "metadata": {},
     "output_type": "execute_result"
    }
   ],
   "source": [
    "df.apply(len)     #returns the series in that dataframe or no of rows, if we apply it om dataframe directly "
   ]
  },
  {
   "cell_type": "code",
   "execution_count": 156,
   "metadata": {},
   "outputs": [
    {
     "data": {
      "text/plain": [
       "0    3\n",
       "1    3\n",
       "2    3\n",
       "3    3\n",
       "dtype: int64"
      ]
     },
     "execution_count": 156,
     "metadata": {},
     "output_type": "execute_result"
    }
   ],
   "source": [
    "df.apply(len,axis='columns')         #this returns no of columns of each row as we changed axis\n",
    "# len(df['email_id']        #this returns the length of the email_id series which has 4 columns"
   ]
  },
  {
   "cell_type": "code",
   "execution_count": 157,
   "metadata": {},
   "outputs": [
    {
     "data": {
      "text/plain": [
       "email_id      akshaykumar@gmail.com\n",
       "first_name                   Farhan\n",
       "last_name                     kumar\n",
       "dtype: object"
      ]
     },
     "execution_count": 157,
     "metadata": {},
     "output_type": "execute_result"
    }
   ],
   "source": [
    "df.apply(pd.Series.min)\n",
    "# df.apply(lambda x:x.min())             #Both give  same output"
   ]
  },
  {
   "cell_type": "code",
   "execution_count": 158,
   "metadata": {},
   "outputs": [
    {
     "data": {
      "text/html": [
       "<div>\n",
       "<style scoped>\n",
       "    .dataframe tbody tr th:only-of-type {\n",
       "        vertical-align: middle;\n",
       "    }\n",
       "\n",
       "    .dataframe tbody tr th {\n",
       "        vertical-align: top;\n",
       "    }\n",
       "\n",
       "    .dataframe thead th {\n",
       "        text-align: right;\n",
       "    }\n",
       "</style>\n",
       "<table border=\"1\" class=\"dataframe\">\n",
       "  <thead>\n",
       "    <tr style=\"text-align: right;\">\n",
       "      <th></th>\n",
       "      <th>email_id</th>\n",
       "      <th>first_name</th>\n",
       "      <th>last_name</th>\n",
       "    </tr>\n",
       "  </thead>\n",
       "  <tbody>\n",
       "    <tr>\n",
       "      <th>0</th>\n",
       "      <td>23</td>\n",
       "      <td>6</td>\n",
       "      <td>7</td>\n",
       "    </tr>\n",
       "    <tr>\n",
       "      <th>1</th>\n",
       "      <td>23</td>\n",
       "      <td>8</td>\n",
       "      <td>5</td>\n",
       "    </tr>\n",
       "    <tr>\n",
       "      <th>2</th>\n",
       "      <td>21</td>\n",
       "      <td>6</td>\n",
       "      <td>5</td>\n",
       "    </tr>\n",
       "    <tr>\n",
       "      <th>3</th>\n",
       "      <td>23</td>\n",
       "      <td>7</td>\n",
       "      <td>6</td>\n",
       "    </tr>\n",
       "  </tbody>\n",
       "</table>\n",
       "</div>"
      ],
      "text/plain": [
       "   email_id  first_name  last_name\n",
       "0        23           6          7\n",
       "1        23           8          5\n",
       "2        21           6          5\n",
       "3        23           7          6"
      ]
     },
     "execution_count": 158,
     "metadata": {},
     "output_type": "execute_result"
    }
   ],
   "source": [
    "df.applymap(len)     #not only length but we can apply many functions to the applymap() to know insights og dataframe "
   ]
  },
  {
   "cell_type": "code",
   "execution_count": 159,
   "metadata": {},
   "outputs": [
    {
     "data": {
      "text/html": [
       "<div>\n",
       "<style scoped>\n",
       "    .dataframe tbody tr th:only-of-type {\n",
       "        vertical-align: middle;\n",
       "    }\n",
       "\n",
       "    .dataframe tbody tr th {\n",
       "        vertical-align: top;\n",
       "    }\n",
       "\n",
       "    .dataframe thead th {\n",
       "        text-align: right;\n",
       "    }\n",
       "</style>\n",
       "<table border=\"1\" class=\"dataframe\">\n",
       "  <thead>\n",
       "    <tr style=\"text-align: right;\">\n",
       "      <th></th>\n",
       "      <th>email_id</th>\n",
       "      <th>first_name</th>\n",
       "      <th>last_name</th>\n",
       "    </tr>\n",
       "  </thead>\n",
       "  <tbody>\n",
       "    <tr>\n",
       "      <th>0</th>\n",
       "      <td>FARHANMUSTAFA@GMIAL.COM</td>\n",
       "      <td>FARHAN</td>\n",
       "      <td>MUSTAFA</td>\n",
       "    </tr>\n",
       "    <tr>\n",
       "      <th>1</th>\n",
       "      <td>NISHANTHKUMAR@GMAIL.COM</td>\n",
       "      <td>NISHANTH</td>\n",
       "      <td>KUMAR</td>\n",
       "    </tr>\n",
       "    <tr>\n",
       "      <th>2</th>\n",
       "      <td>AKSHAYKUMAR@GMAIL.COM</td>\n",
       "      <td>AKSHAY</td>\n",
       "      <td>KUMAR</td>\n",
       "    </tr>\n",
       "    <tr>\n",
       "      <th>3</th>\n",
       "      <td>SANCHAYSWARAJ@GMAIL.COM</td>\n",
       "      <td>SANCHAY</td>\n",
       "      <td>SWARAJ</td>\n",
       "    </tr>\n",
       "  </tbody>\n",
       "</table>\n",
       "</div>"
      ],
      "text/plain": [
       "                  email_id first_name last_name\n",
       "0  FARHANMUSTAFA@GMIAL.COM     FARHAN   MUSTAFA\n",
       "1  NISHANTHKUMAR@GMAIL.COM   NISHANTH     KUMAR\n",
       "2    AKSHAYKUMAR@GMAIL.COM     AKSHAY     KUMAR\n",
       "3  SANCHAYSWARAJ@GMAIL.COM    SANCHAY    SWARAJ"
      ]
     },
     "execution_count": 159,
     "metadata": {},
     "output_type": "execute_result"
    }
   ],
   "source": [
    "df.applymap(str.upper)  "
   ]
  },
  {
   "cell_type": "code",
   "execution_count": 160,
   "metadata": {},
   "outputs": [
    {
     "data": {
      "text/html": [
       "<div>\n",
       "<style scoped>\n",
       "    .dataframe tbody tr th:only-of-type {\n",
       "        vertical-align: middle;\n",
       "    }\n",
       "\n",
       "    .dataframe tbody tr th {\n",
       "        vertical-align: top;\n",
       "    }\n",
       "\n",
       "    .dataframe thead th {\n",
       "        text-align: right;\n",
       "    }\n",
       "</style>\n",
       "<table border=\"1\" class=\"dataframe\">\n",
       "  <thead>\n",
       "    <tr style=\"text-align: right;\">\n",
       "      <th></th>\n",
       "      <th>email_id</th>\n",
       "      <th>first_name</th>\n",
       "      <th>last_name</th>\n",
       "    </tr>\n",
       "  </thead>\n",
       "  <tbody>\n",
       "    <tr>\n",
       "      <th>0</th>\n",
       "      <td>farhanmustafa@gmial.com</td>\n",
       "      <td>Farhan</td>\n",
       "      <td>mustafa</td>\n",
       "    </tr>\n",
       "    <tr>\n",
       "      <th>1</th>\n",
       "      <td>nishanthkumar@gmail.com</td>\n",
       "      <td>nishanth</td>\n",
       "      <td>kumar</td>\n",
       "    </tr>\n",
       "    <tr>\n",
       "      <th>2</th>\n",
       "      <td>akshaykumar@gmail.com</td>\n",
       "      <td>akshay</td>\n",
       "      <td>kumar</td>\n",
       "    </tr>\n",
       "    <tr>\n",
       "      <th>3</th>\n",
       "      <td>sanchayswaraj@gmail.com</td>\n",
       "      <td>sanchay</td>\n",
       "      <td>swaraj</td>\n",
       "    </tr>\n",
       "  </tbody>\n",
       "</table>\n",
       "</div>"
      ],
      "text/plain": [
       "                  email_id first_name last_name\n",
       "0  farhanmustafa@gmial.com     Farhan   mustafa\n",
       "1  nishanthkumar@gmail.com   nishanth     kumar\n",
       "2    akshaykumar@gmail.com     akshay     kumar\n",
       "3  sanchayswaraj@gmail.com    sanchay    swaraj"
      ]
     },
     "execution_count": 160,
     "metadata": {},
     "output_type": "execute_result"
    }
   ],
   "source": [
    "df"
   ]
  },
  {
   "cell_type": "code",
   "execution_count": 161,
   "metadata": {},
   "outputs": [
    {
     "data": {
      "text/plain": [
       "0    akhtar\n",
       "1     singh\n",
       "2     singh\n",
       "3       NaN\n",
       "Name: last_name, dtype: object"
      ]
     },
     "execution_count": 161,
     "metadata": {},
     "output_type": "execute_result"
    }
   ],
   "source": [
    "df['last_name'].map({'mustafa':'akhtar','kumar':'singh'})     #this only updates the mendioned values and assigns other as NaN"
   ]
  },
  {
   "cell_type": "code",
   "execution_count": 162,
   "metadata": {},
   "outputs": [
    {
     "data": {
      "text/plain": [
       "0    akhtar\n",
       "1     singh\n",
       "2     singh\n",
       "3    swaraj\n",
       "Name: last_name, dtype: object"
      ]
     },
     "execution_count": 162,
     "metadata": {},
     "output_type": "execute_result"
    }
   ],
   "source": [
    "df['last_name'].replace({'mustafa':'akhtar','kumar':'singh'})  #but this replaces the mentioned values and doesn't change other values"
   ]
  },
  {
   "cell_type": "code",
   "execution_count": 163,
   "metadata": {},
   "outputs": [],
   "source": [
    "df['age']=[20,21,24,20]      #adding columns,"
   ]
  },
  {
   "cell_type": "code",
   "execution_count": 164,
   "metadata": {},
   "outputs": [
    {
     "data": {
      "text/html": [
       "<div>\n",
       "<style scoped>\n",
       "    .dataframe tbody tr th:only-of-type {\n",
       "        vertical-align: middle;\n",
       "    }\n",
       "\n",
       "    .dataframe tbody tr th {\n",
       "        vertical-align: top;\n",
       "    }\n",
       "\n",
       "    .dataframe thead th {\n",
       "        text-align: right;\n",
       "    }\n",
       "</style>\n",
       "<table border=\"1\" class=\"dataframe\">\n",
       "  <thead>\n",
       "    <tr style=\"text-align: right;\">\n",
       "      <th></th>\n",
       "      <th>email_id</th>\n",
       "      <th>first_name</th>\n",
       "      <th>last_name</th>\n",
       "      <th>age</th>\n",
       "    </tr>\n",
       "  </thead>\n",
       "  <tbody>\n",
       "    <tr>\n",
       "      <th>0</th>\n",
       "      <td>farhanmustafa@gmial.com</td>\n",
       "      <td>Farhan</td>\n",
       "      <td>mustafa</td>\n",
       "      <td>20</td>\n",
       "    </tr>\n",
       "    <tr>\n",
       "      <th>1</th>\n",
       "      <td>nishanthkumar@gmail.com</td>\n",
       "      <td>nishanth</td>\n",
       "      <td>kumar</td>\n",
       "      <td>21</td>\n",
       "    </tr>\n",
       "    <tr>\n",
       "      <th>2</th>\n",
       "      <td>akshaykumar@gmail.com</td>\n",
       "      <td>akshay</td>\n",
       "      <td>kumar</td>\n",
       "      <td>24</td>\n",
       "    </tr>\n",
       "    <tr>\n",
       "      <th>3</th>\n",
       "      <td>sanchayswaraj@gmail.com</td>\n",
       "      <td>sanchay</td>\n",
       "      <td>swaraj</td>\n",
       "      <td>20</td>\n",
       "    </tr>\n",
       "  </tbody>\n",
       "</table>\n",
       "</div>"
      ],
      "text/plain": [
       "                  email_id first_name last_name  age\n",
       "0  farhanmustafa@gmial.com     Farhan   mustafa   20\n",
       "1  nishanthkumar@gmail.com   nishanth     kumar   21\n",
       "2    akshaykumar@gmail.com     akshay     kumar   24\n",
       "3  sanchayswaraj@gmail.com    sanchay    swaraj   20"
      ]
     },
     "execution_count": 164,
     "metadata": {},
     "output_type": "execute_result"
    }
   ],
   "source": [
    "df"
   ]
  },
  {
   "cell_type": "code",
   "execution_count": 165,
   "metadata": {},
   "outputs": [],
   "source": [
    "df.drop(columns=['age'],inplace=True)      #drop() we can pass columns also by passing arrays"
   ]
  },
  {
   "cell_type": "code",
   "execution_count": 166,
   "metadata": {},
   "outputs": [
    {
     "data": {
      "text/html": [
       "<div>\n",
       "<style scoped>\n",
       "    .dataframe tbody tr th:only-of-type {\n",
       "        vertical-align: middle;\n",
       "    }\n",
       "\n",
       "    .dataframe tbody tr th {\n",
       "        vertical-align: top;\n",
       "    }\n",
       "\n",
       "    .dataframe thead th {\n",
       "        text-align: right;\n",
       "    }\n",
       "</style>\n",
       "<table border=\"1\" class=\"dataframe\">\n",
       "  <thead>\n",
       "    <tr style=\"text-align: right;\">\n",
       "      <th></th>\n",
       "      <th>email_id</th>\n",
       "      <th>first_name</th>\n",
       "      <th>last_name</th>\n",
       "    </tr>\n",
       "  </thead>\n",
       "  <tbody>\n",
       "    <tr>\n",
       "      <th>0</th>\n",
       "      <td>farhanmustafa@gmial.com</td>\n",
       "      <td>Farhan</td>\n",
       "      <td>mustafa</td>\n",
       "    </tr>\n",
       "    <tr>\n",
       "      <th>1</th>\n",
       "      <td>nishanthkumar@gmail.com</td>\n",
       "      <td>nishanth</td>\n",
       "      <td>kumar</td>\n",
       "    </tr>\n",
       "    <tr>\n",
       "      <th>2</th>\n",
       "      <td>akshaykumar@gmail.com</td>\n",
       "      <td>akshay</td>\n",
       "      <td>kumar</td>\n",
       "    </tr>\n",
       "    <tr>\n",
       "      <th>3</th>\n",
       "      <td>sanchayswaraj@gmail.com</td>\n",
       "      <td>sanchay</td>\n",
       "      <td>swaraj</td>\n",
       "    </tr>\n",
       "  </tbody>\n",
       "</table>\n",
       "</div>"
      ],
      "text/plain": [
       "                  email_id first_name last_name\n",
       "0  farhanmustafa@gmial.com     Farhan   mustafa\n",
       "1  nishanthkumar@gmail.com   nishanth     kumar\n",
       "2    akshaykumar@gmail.com     akshay     kumar\n",
       "3  sanchayswaraj@gmail.com    sanchay    swaraj"
      ]
     },
     "execution_count": 166,
     "metadata": {},
     "output_type": "execute_result"
    }
   ],
   "source": [
    "df"
   ]
  },
  {
   "cell_type": "code",
   "execution_count": 167,
   "metadata": {},
   "outputs": [],
   "source": [
    "df['full_name']= df['first_name']+df['last_name']"
   ]
  },
  {
   "cell_type": "code",
   "execution_count": 168,
   "metadata": {},
   "outputs": [
    {
     "data": {
      "text/html": [
       "<div>\n",
       "<style scoped>\n",
       "    .dataframe tbody tr th:only-of-type {\n",
       "        vertical-align: middle;\n",
       "    }\n",
       "\n",
       "    .dataframe tbody tr th {\n",
       "        vertical-align: top;\n",
       "    }\n",
       "\n",
       "    .dataframe thead th {\n",
       "        text-align: right;\n",
       "    }\n",
       "</style>\n",
       "<table border=\"1\" class=\"dataframe\">\n",
       "  <thead>\n",
       "    <tr style=\"text-align: right;\">\n",
       "      <th></th>\n",
       "      <th>email_id</th>\n",
       "      <th>first_name</th>\n",
       "      <th>last_name</th>\n",
       "      <th>full_name</th>\n",
       "    </tr>\n",
       "  </thead>\n",
       "  <tbody>\n",
       "    <tr>\n",
       "      <th>0</th>\n",
       "      <td>farhanmustafa@gmial.com</td>\n",
       "      <td>Farhan</td>\n",
       "      <td>mustafa</td>\n",
       "      <td>Farhanmustafa</td>\n",
       "    </tr>\n",
       "    <tr>\n",
       "      <th>1</th>\n",
       "      <td>nishanthkumar@gmail.com</td>\n",
       "      <td>nishanth</td>\n",
       "      <td>kumar</td>\n",
       "      <td>nishanthkumar</td>\n",
       "    </tr>\n",
       "    <tr>\n",
       "      <th>2</th>\n",
       "      <td>akshaykumar@gmail.com</td>\n",
       "      <td>akshay</td>\n",
       "      <td>kumar</td>\n",
       "      <td>akshaykumar</td>\n",
       "    </tr>\n",
       "    <tr>\n",
       "      <th>3</th>\n",
       "      <td>sanchayswaraj@gmail.com</td>\n",
       "      <td>sanchay</td>\n",
       "      <td>swaraj</td>\n",
       "      <td>sanchayswaraj</td>\n",
       "    </tr>\n",
       "  </tbody>\n",
       "</table>\n",
       "</div>"
      ],
      "text/plain": [
       "                  email_id first_name last_name      full_name\n",
       "0  farhanmustafa@gmial.com     Farhan   mustafa  Farhanmustafa\n",
       "1  nishanthkumar@gmail.com   nishanth     kumar  nishanthkumar\n",
       "2    akshaykumar@gmail.com     akshay     kumar    akshaykumar\n",
       "3  sanchayswaraj@gmail.com    sanchay    swaraj  sanchayswaraj"
      ]
     },
     "execution_count": 168,
     "metadata": {},
     "output_type": "execute_result"
    }
   ],
   "source": [
    "df"
   ]
  },
  {
   "cell_type": "code",
   "execution_count": 169,
   "metadata": {},
   "outputs": [],
   "source": [
    "df.drop(columns=['first_name','last_name'],inplace=True)"
   ]
  },
  {
   "cell_type": "code",
   "execution_count": 170,
   "metadata": {},
   "outputs": [
    {
     "data": {
      "text/html": [
       "<div>\n",
       "<style scoped>\n",
       "    .dataframe tbody tr th:only-of-type {\n",
       "        vertical-align: middle;\n",
       "    }\n",
       "\n",
       "    .dataframe tbody tr th {\n",
       "        vertical-align: top;\n",
       "    }\n",
       "\n",
       "    .dataframe thead th {\n",
       "        text-align: right;\n",
       "    }\n",
       "</style>\n",
       "<table border=\"1\" class=\"dataframe\">\n",
       "  <thead>\n",
       "    <tr style=\"text-align: right;\">\n",
       "      <th></th>\n",
       "      <th>email_id</th>\n",
       "      <th>full_name</th>\n",
       "    </tr>\n",
       "  </thead>\n",
       "  <tbody>\n",
       "    <tr>\n",
       "      <th>0</th>\n",
       "      <td>farhanmustafa@gmial.com</td>\n",
       "      <td>Farhanmustafa</td>\n",
       "    </tr>\n",
       "    <tr>\n",
       "      <th>1</th>\n",
       "      <td>nishanthkumar@gmail.com</td>\n",
       "      <td>nishanthkumar</td>\n",
       "    </tr>\n",
       "    <tr>\n",
       "      <th>2</th>\n",
       "      <td>akshaykumar@gmail.com</td>\n",
       "      <td>akshaykumar</td>\n",
       "    </tr>\n",
       "    <tr>\n",
       "      <th>3</th>\n",
       "      <td>sanchayswaraj@gmail.com</td>\n",
       "      <td>sanchayswaraj</td>\n",
       "    </tr>\n",
       "  </tbody>\n",
       "</table>\n",
       "</div>"
      ],
      "text/plain": [
       "                  email_id      full_name\n",
       "0  farhanmustafa@gmial.com  Farhanmustafa\n",
       "1  nishanthkumar@gmail.com  nishanthkumar\n",
       "2    akshaykumar@gmail.com    akshaykumar\n",
       "3  sanchayswaraj@gmail.com  sanchayswaraj"
      ]
     },
     "execution_count": 170,
     "metadata": {},
     "output_type": "execute_result"
    }
   ],
   "source": [
    "df"
   ]
  },
  {
   "cell_type": "code",
   "execution_count": 171,
   "metadata": {},
   "outputs": [],
   "source": [
    "df['first_name']=['farhan','nishant','akshay','sanchay']\n",
    "df['last_name']=['mustafa','kumar','kumar','swaraj']"
   ]
  },
  {
   "cell_type": "code",
   "execution_count": 172,
   "metadata": {},
   "outputs": [
    {
     "data": {
      "text/html": [
       "<div>\n",
       "<style scoped>\n",
       "    .dataframe tbody tr th:only-of-type {\n",
       "        vertical-align: middle;\n",
       "    }\n",
       "\n",
       "    .dataframe tbody tr th {\n",
       "        vertical-align: top;\n",
       "    }\n",
       "\n",
       "    .dataframe thead th {\n",
       "        text-align: right;\n",
       "    }\n",
       "</style>\n",
       "<table border=\"1\" class=\"dataframe\">\n",
       "  <thead>\n",
       "    <tr style=\"text-align: right;\">\n",
       "      <th></th>\n",
       "      <th>email_id</th>\n",
       "      <th>full_name</th>\n",
       "      <th>first_name</th>\n",
       "      <th>last_name</th>\n",
       "    </tr>\n",
       "  </thead>\n",
       "  <tbody>\n",
       "    <tr>\n",
       "      <th>0</th>\n",
       "      <td>farhanmustafa@gmial.com</td>\n",
       "      <td>Farhanmustafa</td>\n",
       "      <td>farhan</td>\n",
       "      <td>mustafa</td>\n",
       "    </tr>\n",
       "    <tr>\n",
       "      <th>1</th>\n",
       "      <td>nishanthkumar@gmail.com</td>\n",
       "      <td>nishanthkumar</td>\n",
       "      <td>nishant</td>\n",
       "      <td>kumar</td>\n",
       "    </tr>\n",
       "    <tr>\n",
       "      <th>2</th>\n",
       "      <td>akshaykumar@gmail.com</td>\n",
       "      <td>akshaykumar</td>\n",
       "      <td>akshay</td>\n",
       "      <td>kumar</td>\n",
       "    </tr>\n",
       "    <tr>\n",
       "      <th>3</th>\n",
       "      <td>sanchayswaraj@gmail.com</td>\n",
       "      <td>sanchayswaraj</td>\n",
       "      <td>sanchay</td>\n",
       "      <td>swaraj</td>\n",
       "    </tr>\n",
       "  </tbody>\n",
       "</table>\n",
       "</div>"
      ],
      "text/plain": [
       "                  email_id      full_name first_name last_name\n",
       "0  farhanmustafa@gmial.com  Farhanmustafa     farhan   mustafa\n",
       "1  nishanthkumar@gmail.com  nishanthkumar    nishant     kumar\n",
       "2    akshaykumar@gmail.com    akshaykumar     akshay     kumar\n",
       "3  sanchayswaraj@gmail.com  sanchayswaraj    sanchay    swaraj"
      ]
     },
     "execution_count": 172,
     "metadata": {},
     "output_type": "execute_result"
    }
   ],
   "source": [
    "df"
   ]
  },
  {
   "cell_type": "code",
   "execution_count": 214,
   "metadata": {},
   "outputs": [],
   "source": [
    "df.drop(columns=['full_name'],inplace=True)"
   ]
  },
  {
   "cell_type": "code",
   "execution_count": 215,
   "metadata": {},
   "outputs": [],
   "source": [
    "df['full_name']= df['first_name']+' '+df['last_name']   #this shows error because in next step we dropped 2 columns\n"
   ]
  },
  {
   "cell_type": "code",
   "execution_count": 216,
   "metadata": {},
   "outputs": [],
   "source": [
    "df.drop(columns=['first_name','last_name'],inplace=True)"
   ]
  },
  {
   "cell_type": "code",
   "execution_count": 217,
   "metadata": {},
   "outputs": [
    {
     "data": {
      "text/html": [
       "<div>\n",
       "<style scoped>\n",
       "    .dataframe tbody tr th:only-of-type {\n",
       "        vertical-align: middle;\n",
       "    }\n",
       "\n",
       "    .dataframe tbody tr th {\n",
       "        vertical-align: top;\n",
       "    }\n",
       "\n",
       "    .dataframe thead th {\n",
       "        text-align: right;\n",
       "    }\n",
       "</style>\n",
       "<table border=\"1\" class=\"dataframe\">\n",
       "  <thead>\n",
       "    <tr style=\"text-align: right;\">\n",
       "      <th></th>\n",
       "      <th>0</th>\n",
       "      <th>1</th>\n",
       "    </tr>\n",
       "  </thead>\n",
       "  <tbody>\n",
       "    <tr>\n",
       "      <th>0</th>\n",
       "      <td>farhan</td>\n",
       "      <td>mustafa</td>\n",
       "    </tr>\n",
       "    <tr>\n",
       "      <th>1</th>\n",
       "      <td>nishant</td>\n",
       "      <td>kumar</td>\n",
       "    </tr>\n",
       "    <tr>\n",
       "      <th>2</th>\n",
       "      <td>akshay</td>\n",
       "      <td>kumar</td>\n",
       "    </tr>\n",
       "    <tr>\n",
       "      <th>3</th>\n",
       "      <td>sanchay</td>\n",
       "      <td>swaraj</td>\n",
       "    </tr>\n",
       "    <tr>\n",
       "      <th>4</th>\n",
       "      <td>Snoop</td>\n",
       "      <td>Dogg</td>\n",
       "    </tr>\n",
       "    <tr>\n",
       "      <th>5</th>\n",
       "      <td>Tyla</td>\n",
       "      <td>Yaweh</td>\n",
       "    </tr>\n",
       "    <tr>\n",
       "      <th>6</th>\n",
       "      <td>Post</td>\n",
       "      <td>Mealone</td>\n",
       "    </tr>\n",
       "    <tr>\n",
       "      <th>7</th>\n",
       "      <td>NaN</td>\n",
       "      <td>NaN</td>\n",
       "    </tr>\n",
       "    <tr>\n",
       "      <th>8</th>\n",
       "      <td>NaN</td>\n",
       "      <td>NaN</td>\n",
       "    </tr>\n",
       "  </tbody>\n",
       "</table>\n",
       "</div>"
      ],
      "text/plain": [
       "         0        1\n",
       "0   farhan  mustafa\n",
       "1  nishant    kumar\n",
       "2   akshay    kumar\n",
       "3  sanchay   swaraj\n",
       "4    Snoop     Dogg\n",
       "5     Tyla    Yaweh\n",
       "6     Post  Mealone\n",
       "7      NaN      NaN\n",
       "8      NaN      NaN"
      ]
     },
     "execution_count": 217,
     "metadata": {},
     "output_type": "execute_result"
    }
   ],
   "source": [
    "df['full_name'].str.split(' ',expand=True)    #here this splits the full_name column into 2 columns respect to spaces\n",
    "                                                #expand=True will make the list into a dataframe or columns  "
   ]
  },
  {
   "cell_type": "code",
   "execution_count": 177,
   "metadata": {},
   "outputs": [
    {
     "data": {
      "text/html": [
       "<div>\n",
       "<style scoped>\n",
       "    .dataframe tbody tr th:only-of-type {\n",
       "        vertical-align: middle;\n",
       "    }\n",
       "\n",
       "    .dataframe tbody tr th {\n",
       "        vertical-align: top;\n",
       "    }\n",
       "\n",
       "    .dataframe thead th {\n",
       "        text-align: right;\n",
       "    }\n",
       "</style>\n",
       "<table border=\"1\" class=\"dataframe\">\n",
       "  <thead>\n",
       "    <tr style=\"text-align: right;\">\n",
       "      <th></th>\n",
       "      <th>email_id</th>\n",
       "      <th>full_name</th>\n",
       "      <th>first_name</th>\n",
       "      <th>last_name</th>\n",
       "    </tr>\n",
       "  </thead>\n",
       "  <tbody>\n",
       "    <tr>\n",
       "      <th>0</th>\n",
       "      <td>farhanmustafa@gmial.com</td>\n",
       "      <td>farhan mustafa</td>\n",
       "      <td>farhan</td>\n",
       "      <td>mustafa</td>\n",
       "    </tr>\n",
       "    <tr>\n",
       "      <th>1</th>\n",
       "      <td>nishanthkumar@gmail.com</td>\n",
       "      <td>nishant kumar</td>\n",
       "      <td>nishant</td>\n",
       "      <td>kumar</td>\n",
       "    </tr>\n",
       "    <tr>\n",
       "      <th>2</th>\n",
       "      <td>akshaykumar@gmail.com</td>\n",
       "      <td>akshay kumar</td>\n",
       "      <td>akshay</td>\n",
       "      <td>kumar</td>\n",
       "    </tr>\n",
       "    <tr>\n",
       "      <th>3</th>\n",
       "      <td>sanchayswaraj@gmail.com</td>\n",
       "      <td>sanchay swaraj</td>\n",
       "      <td>sanchay</td>\n",
       "      <td>swaraj</td>\n",
       "    </tr>\n",
       "  </tbody>\n",
       "</table>\n",
       "</div>"
      ],
      "text/plain": [
       "                  email_id       full_name first_name last_name\n",
       "0  farhanmustafa@gmial.com  farhan mustafa     farhan   mustafa\n",
       "1  nishanthkumar@gmail.com   nishant kumar    nishant     kumar\n",
       "2    akshaykumar@gmail.com    akshay kumar     akshay     kumar\n",
       "3  sanchayswaraj@gmail.com  sanchay swaraj    sanchay    swaraj"
      ]
     },
     "execution_count": 177,
     "metadata": {},
     "output_type": "execute_result"
    }
   ],
   "source": [
    "df[['first_name','last_name']]=df['full_name'].str.split(' ',expand=True) #here we assigned them to 2 named columns \n",
    "df"
   ]
  },
  {
   "cell_type": "code",
   "execution_count": null,
   "metadata": {},
   "outputs": [],
   "source": [
    "p"
   ]
  },
  {
   "cell_type": "code",
   "execution_count": 178,
   "metadata": {},
   "outputs": [],
   "source": [
    "people2={\"first_name\":[\"Snoop\",\"Tyla\",\"Post\"],\n",
    "        \"last_name\":[\"Dogg\",\"Yaweh\",\"Mealone\"],\n",
    "        \"email_id\":[\"snoopdogg@gmial.com\",\"tylayaweh@gmail.com\",\"postmalone@gmail.com\"],\n",
    "        \"full_name\":['Snoopdog','tylayaweh','postmalone']}\n",
    "df2=pd.DataFrame(people2)"
   ]
  },
  {
   "cell_type": "code",
   "execution_count": 179,
   "metadata": {},
   "outputs": [
    {
     "data": {
      "text/html": [
       "<div>\n",
       "<style scoped>\n",
       "    .dataframe tbody tr th:only-of-type {\n",
       "        vertical-align: middle;\n",
       "    }\n",
       "\n",
       "    .dataframe tbody tr th {\n",
       "        vertical-align: top;\n",
       "    }\n",
       "\n",
       "    .dataframe thead th {\n",
       "        text-align: right;\n",
       "    }\n",
       "</style>\n",
       "<table border=\"1\" class=\"dataframe\">\n",
       "  <thead>\n",
       "    <tr style=\"text-align: right;\">\n",
       "      <th></th>\n",
       "      <th>first_name</th>\n",
       "      <th>last_name</th>\n",
       "      <th>email_id</th>\n",
       "      <th>full_name</th>\n",
       "    </tr>\n",
       "  </thead>\n",
       "  <tbody>\n",
       "    <tr>\n",
       "      <th>0</th>\n",
       "      <td>Snoop</td>\n",
       "      <td>Dogg</td>\n",
       "      <td>snoopdogg@gmial.com</td>\n",
       "      <td>Snoopdog</td>\n",
       "    </tr>\n",
       "    <tr>\n",
       "      <th>1</th>\n",
       "      <td>Tyla</td>\n",
       "      <td>Yaweh</td>\n",
       "      <td>tylayaweh@gmail.com</td>\n",
       "      <td>tylayaweh</td>\n",
       "    </tr>\n",
       "    <tr>\n",
       "      <th>2</th>\n",
       "      <td>Post</td>\n",
       "      <td>Mealone</td>\n",
       "      <td>postmalone@gmail.com</td>\n",
       "      <td>postmalone</td>\n",
       "    </tr>\n",
       "  </tbody>\n",
       "</table>\n",
       "</div>"
      ],
      "text/plain": [
       "  first_name last_name              email_id   full_name\n",
       "0      Snoop      Dogg   snoopdogg@gmial.com    Snoopdog\n",
       "1       Tyla     Yaweh   tylayaweh@gmail.com   tylayaweh\n",
       "2       Post   Mealone  postmalone@gmail.com  postmalone"
      ]
     },
     "execution_count": 179,
     "metadata": {},
     "output_type": "execute_result"
    }
   ],
   "source": [
    "df2"
   ]
  },
  {
   "cell_type": "code",
   "execution_count": 180,
   "metadata": {},
   "outputs": [],
   "source": [
    "df=df.append(df2,ignore_index=True,sort=False)      #Here we appended the df2 dataframe to df and here ignore_index will "
   ]
  },
  {
   "cell_type": "code",
   "execution_count": 181,
   "metadata": {},
   "outputs": [
    {
     "data": {
      "text/html": [
       "<div>\n",
       "<style scoped>\n",
       "    .dataframe tbody tr th:only-of-type {\n",
       "        vertical-align: middle;\n",
       "    }\n",
       "\n",
       "    .dataframe tbody tr th {\n",
       "        vertical-align: top;\n",
       "    }\n",
       "\n",
       "    .dataframe thead th {\n",
       "        text-align: right;\n",
       "    }\n",
       "</style>\n",
       "<table border=\"1\" class=\"dataframe\">\n",
       "  <thead>\n",
       "    <tr style=\"text-align: right;\">\n",
       "      <th></th>\n",
       "      <th>email_id</th>\n",
       "      <th>full_name</th>\n",
       "      <th>first_name</th>\n",
       "      <th>last_name</th>\n",
       "    </tr>\n",
       "  </thead>\n",
       "  <tbody>\n",
       "    <tr>\n",
       "      <th>0</th>\n",
       "      <td>farhanmustafa@gmial.com</td>\n",
       "      <td>farhan mustafa</td>\n",
       "      <td>farhan</td>\n",
       "      <td>mustafa</td>\n",
       "    </tr>\n",
       "    <tr>\n",
       "      <th>1</th>\n",
       "      <td>nishanthkumar@gmail.com</td>\n",
       "      <td>nishant kumar</td>\n",
       "      <td>nishant</td>\n",
       "      <td>kumar</td>\n",
       "    </tr>\n",
       "    <tr>\n",
       "      <th>2</th>\n",
       "      <td>akshaykumar@gmail.com</td>\n",
       "      <td>akshay kumar</td>\n",
       "      <td>akshay</td>\n",
       "      <td>kumar</td>\n",
       "    </tr>\n",
       "    <tr>\n",
       "      <th>3</th>\n",
       "      <td>sanchayswaraj@gmail.com</td>\n",
       "      <td>sanchay swaraj</td>\n",
       "      <td>sanchay</td>\n",
       "      <td>swaraj</td>\n",
       "    </tr>\n",
       "    <tr>\n",
       "      <th>4</th>\n",
       "      <td>snoopdogg@gmial.com</td>\n",
       "      <td>Snoopdog</td>\n",
       "      <td>Snoop</td>\n",
       "      <td>Dogg</td>\n",
       "    </tr>\n",
       "    <tr>\n",
       "      <th>5</th>\n",
       "      <td>tylayaweh@gmail.com</td>\n",
       "      <td>tylayaweh</td>\n",
       "      <td>Tyla</td>\n",
       "      <td>Yaweh</td>\n",
       "    </tr>\n",
       "    <tr>\n",
       "      <th>6</th>\n",
       "      <td>postmalone@gmail.com</td>\n",
       "      <td>postmalone</td>\n",
       "      <td>Post</td>\n",
       "      <td>Mealone</td>\n",
       "    </tr>\n",
       "  </tbody>\n",
       "</table>\n",
       "</div>"
      ],
      "text/plain": [
       "                  email_id       full_name first_name last_name\n",
       "0  farhanmustafa@gmial.com  farhan mustafa     farhan   mustafa\n",
       "1  nishanthkumar@gmail.com   nishant kumar    nishant     kumar\n",
       "2    akshaykumar@gmail.com    akshay kumar     akshay     kumar\n",
       "3  sanchayswaraj@gmail.com  sanchay swaraj    sanchay    swaraj\n",
       "4      snoopdogg@gmial.com        Snoopdog      Snoop      Dogg\n",
       "5      tylayaweh@gmail.com       tylayaweh       Tyla     Yaweh\n",
       "6     postmalone@gmail.com      postmalone       Post   Mealone"
      ]
     },
     "execution_count": 181,
     "metadata": {},
     "output_type": "execute_result"
    }
   ],
   "source": [
    "df"
   ]
  },
  {
   "cell_type": "code",
   "execution_count": 182,
   "metadata": {},
   "outputs": [
    {
     "data": {
      "text/html": [
       "<div>\n",
       "<style scoped>\n",
       "    .dataframe tbody tr th:only-of-type {\n",
       "        vertical-align: middle;\n",
       "    }\n",
       "\n",
       "    .dataframe tbody tr th {\n",
       "        vertical-align: top;\n",
       "    }\n",
       "\n",
       "    .dataframe thead th {\n",
       "        text-align: right;\n",
       "    }\n",
       "</style>\n",
       "<table border=\"1\" class=\"dataframe\">\n",
       "  <thead>\n",
       "    <tr style=\"text-align: right;\">\n",
       "      <th></th>\n",
       "      <th>email_id</th>\n",
       "      <th>full_name</th>\n",
       "      <th>first_name</th>\n",
       "      <th>last_name</th>\n",
       "    </tr>\n",
       "  </thead>\n",
       "  <tbody>\n",
       "    <tr>\n",
       "      <th>0</th>\n",
       "      <td>farhanmustafa@gmial.com</td>\n",
       "      <td>farhan mustafa</td>\n",
       "      <td>farhan</td>\n",
       "      <td>mustafa</td>\n",
       "    </tr>\n",
       "    <tr>\n",
       "      <th>2</th>\n",
       "      <td>akshaykumar@gmail.com</td>\n",
       "      <td>akshay kumar</td>\n",
       "      <td>akshay</td>\n",
       "      <td>kumar</td>\n",
       "    </tr>\n",
       "    <tr>\n",
       "      <th>3</th>\n",
       "      <td>sanchayswaraj@gmail.com</td>\n",
       "      <td>sanchay swaraj</td>\n",
       "      <td>sanchay</td>\n",
       "      <td>swaraj</td>\n",
       "    </tr>\n",
       "    <tr>\n",
       "      <th>4</th>\n",
       "      <td>snoopdogg@gmial.com</td>\n",
       "      <td>Snoopdog</td>\n",
       "      <td>Snoop</td>\n",
       "      <td>Dogg</td>\n",
       "    </tr>\n",
       "    <tr>\n",
       "      <th>5</th>\n",
       "      <td>tylayaweh@gmail.com</td>\n",
       "      <td>tylayaweh</td>\n",
       "      <td>Tyla</td>\n",
       "      <td>Yaweh</td>\n",
       "    </tr>\n",
       "    <tr>\n",
       "      <th>6</th>\n",
       "      <td>postmalone@gmail.com</td>\n",
       "      <td>postmalone</td>\n",
       "      <td>Post</td>\n",
       "      <td>Mealone</td>\n",
       "    </tr>\n",
       "  </tbody>\n",
       "</table>\n",
       "</div>"
      ],
      "text/plain": [
       "                  email_id       full_name first_name last_name\n",
       "0  farhanmustafa@gmial.com  farhan mustafa     farhan   mustafa\n",
       "2    akshaykumar@gmail.com    akshay kumar     akshay     kumar\n",
       "3  sanchayswaraj@gmail.com  sanchay swaraj    sanchay    swaraj\n",
       "4      snoopdogg@gmial.com        Snoopdog      Snoop      Dogg\n",
       "5      tylayaweh@gmail.com       tylayaweh       Tyla     Yaweh\n",
       "6     postmalone@gmail.com      postmalone       Post   Mealone"
      ]
     },
     "execution_count": 182,
     "metadata": {},
     "output_type": "execute_result"
    }
   ],
   "source": [
    "df.drop(index=1)             #we can drop row by specifying index number "
   ]
  },
  {
   "cell_type": "code",
   "execution_count": 183,
   "metadata": {},
   "outputs": [
    {
     "data": {
      "text/html": [
       "<div>\n",
       "<style scoped>\n",
       "    .dataframe tbody tr th:only-of-type {\n",
       "        vertical-align: middle;\n",
       "    }\n",
       "\n",
       "    .dataframe tbody tr th {\n",
       "        vertical-align: top;\n",
       "    }\n",
       "\n",
       "    .dataframe thead th {\n",
       "        text-align: right;\n",
       "    }\n",
       "</style>\n",
       "<table border=\"1\" class=\"dataframe\">\n",
       "  <thead>\n",
       "    <tr style=\"text-align: right;\">\n",
       "      <th></th>\n",
       "      <th>email_id</th>\n",
       "      <th>full_name</th>\n",
       "      <th>first_name</th>\n",
       "      <th>last_name</th>\n",
       "    </tr>\n",
       "  </thead>\n",
       "  <tbody>\n",
       "    <tr>\n",
       "      <th>0</th>\n",
       "      <td>farhanmustafa@gmial.com</td>\n",
       "      <td>farhan mustafa</td>\n",
       "      <td>farhan</td>\n",
       "      <td>mustafa</td>\n",
       "    </tr>\n",
       "    <tr>\n",
       "      <th>3</th>\n",
       "      <td>sanchayswaraj@gmail.com</td>\n",
       "      <td>sanchay swaraj</td>\n",
       "      <td>sanchay</td>\n",
       "      <td>swaraj</td>\n",
       "    </tr>\n",
       "    <tr>\n",
       "      <th>4</th>\n",
       "      <td>snoopdogg@gmial.com</td>\n",
       "      <td>Snoopdog</td>\n",
       "      <td>Snoop</td>\n",
       "      <td>Dogg</td>\n",
       "    </tr>\n",
       "    <tr>\n",
       "      <th>5</th>\n",
       "      <td>tylayaweh@gmail.com</td>\n",
       "      <td>tylayaweh</td>\n",
       "      <td>Tyla</td>\n",
       "      <td>Yaweh</td>\n",
       "    </tr>\n",
       "    <tr>\n",
       "      <th>6</th>\n",
       "      <td>postmalone@gmail.com</td>\n",
       "      <td>postmalone</td>\n",
       "      <td>Post</td>\n",
       "      <td>Mealone</td>\n",
       "    </tr>\n",
       "  </tbody>\n",
       "</table>\n",
       "</div>"
      ],
      "text/plain": [
       "                  email_id       full_name first_name last_name\n",
       "0  farhanmustafa@gmial.com  farhan mustafa     farhan   mustafa\n",
       "3  sanchayswaraj@gmail.com  sanchay swaraj    sanchay    swaraj\n",
       "4      snoopdogg@gmial.com        Snoopdog      Snoop      Dogg\n",
       "5      tylayaweh@gmail.com       tylayaweh       Tyla     Yaweh\n",
       "6     postmalone@gmail.com      postmalone       Post   Mealone"
      ]
     },
     "execution_count": 183,
     "metadata": {},
     "output_type": "execute_result"
    }
   ],
   "source": [
    "filt=df['last_name']=='kumar'\n",
    "df.drop(index=df[filt].index)"
   ]
  },
  {
   "cell_type": "code",
   "execution_count": 184,
   "metadata": {},
   "outputs": [
    {
     "data": {
      "text/html": [
       "<div>\n",
       "<style scoped>\n",
       "    .dataframe tbody tr th:only-of-type {\n",
       "        vertical-align: middle;\n",
       "    }\n",
       "\n",
       "    .dataframe tbody tr th {\n",
       "        vertical-align: top;\n",
       "    }\n",
       "\n",
       "    .dataframe thead th {\n",
       "        text-align: right;\n",
       "    }\n",
       "</style>\n",
       "<table border=\"1\" class=\"dataframe\">\n",
       "  <thead>\n",
       "    <tr style=\"text-align: right;\">\n",
       "      <th></th>\n",
       "      <th>email_id</th>\n",
       "      <th>full_name</th>\n",
       "      <th>first_name</th>\n",
       "      <th>last_name</th>\n",
       "    </tr>\n",
       "  </thead>\n",
       "  <tbody>\n",
       "    <tr>\n",
       "      <th>4</th>\n",
       "      <td>snoopdogg@gmial.com</td>\n",
       "      <td>Snoopdog</td>\n",
       "      <td>Snoop</td>\n",
       "      <td>Dogg</td>\n",
       "    </tr>\n",
       "    <tr>\n",
       "      <th>6</th>\n",
       "      <td>postmalone@gmail.com</td>\n",
       "      <td>postmalone</td>\n",
       "      <td>Post</td>\n",
       "      <td>Mealone</td>\n",
       "    </tr>\n",
       "    <tr>\n",
       "      <th>5</th>\n",
       "      <td>tylayaweh@gmail.com</td>\n",
       "      <td>tylayaweh</td>\n",
       "      <td>Tyla</td>\n",
       "      <td>Yaweh</td>\n",
       "    </tr>\n",
       "    <tr>\n",
       "      <th>1</th>\n",
       "      <td>nishanthkumar@gmail.com</td>\n",
       "      <td>nishant kumar</td>\n",
       "      <td>nishant</td>\n",
       "      <td>kumar</td>\n",
       "    </tr>\n",
       "    <tr>\n",
       "      <th>2</th>\n",
       "      <td>akshaykumar@gmail.com</td>\n",
       "      <td>akshay kumar</td>\n",
       "      <td>akshay</td>\n",
       "      <td>kumar</td>\n",
       "    </tr>\n",
       "    <tr>\n",
       "      <th>0</th>\n",
       "      <td>farhanmustafa@gmial.com</td>\n",
       "      <td>farhan mustafa</td>\n",
       "      <td>farhan</td>\n",
       "      <td>mustafa</td>\n",
       "    </tr>\n",
       "    <tr>\n",
       "      <th>3</th>\n",
       "      <td>sanchayswaraj@gmail.com</td>\n",
       "      <td>sanchay swaraj</td>\n",
       "      <td>sanchay</td>\n",
       "      <td>swaraj</td>\n",
       "    </tr>\n",
       "  </tbody>\n",
       "</table>\n",
       "</div>"
      ],
      "text/plain": [
       "                  email_id       full_name first_name last_name\n",
       "4      snoopdogg@gmial.com        Snoopdog      Snoop      Dogg\n",
       "6     postmalone@gmail.com      postmalone       Post   Mealone\n",
       "5      tylayaweh@gmail.com       tylayaweh       Tyla     Yaweh\n",
       "1  nishanthkumar@gmail.com   nishant kumar    nishant     kumar\n",
       "2    akshaykumar@gmail.com    akshay kumar     akshay     kumar\n",
       "0  farhanmustafa@gmial.com  farhan mustafa     farhan   mustafa\n",
       "3  sanchayswaraj@gmail.com  sanchay swaraj    sanchay    swaraj"
      ]
     },
     "execution_count": 184,
     "metadata": {},
     "output_type": "execute_result"
    }
   ],
   "source": [
    "df.sort_values(by='last_name')"
   ]
  },
  {
   "cell_type": "code",
   "execution_count": 185,
   "metadata": {},
   "outputs": [
    {
     "data": {
      "text/html": [
       "<div>\n",
       "<style scoped>\n",
       "    .dataframe tbody tr th:only-of-type {\n",
       "        vertical-align: middle;\n",
       "    }\n",
       "\n",
       "    .dataframe tbody tr th {\n",
       "        vertical-align: top;\n",
       "    }\n",
       "\n",
       "    .dataframe thead th {\n",
       "        text-align: right;\n",
       "    }\n",
       "</style>\n",
       "<table border=\"1\" class=\"dataframe\">\n",
       "  <thead>\n",
       "    <tr style=\"text-align: right;\">\n",
       "      <th></th>\n",
       "      <th>email_id</th>\n",
       "      <th>full_name</th>\n",
       "      <th>first_name</th>\n",
       "      <th>last_name</th>\n",
       "    </tr>\n",
       "  </thead>\n",
       "  <tbody>\n",
       "    <tr>\n",
       "      <th>3</th>\n",
       "      <td>sanchayswaraj@gmail.com</td>\n",
       "      <td>sanchay swaraj</td>\n",
       "      <td>sanchay</td>\n",
       "      <td>swaraj</td>\n",
       "    </tr>\n",
       "    <tr>\n",
       "      <th>0</th>\n",
       "      <td>farhanmustafa@gmial.com</td>\n",
       "      <td>farhan mustafa</td>\n",
       "      <td>farhan</td>\n",
       "      <td>mustafa</td>\n",
       "    </tr>\n",
       "    <tr>\n",
       "      <th>1</th>\n",
       "      <td>nishanthkumar@gmail.com</td>\n",
       "      <td>nishant kumar</td>\n",
       "      <td>nishant</td>\n",
       "      <td>kumar</td>\n",
       "    </tr>\n",
       "    <tr>\n",
       "      <th>2</th>\n",
       "      <td>akshaykumar@gmail.com</td>\n",
       "      <td>akshay kumar</td>\n",
       "      <td>akshay</td>\n",
       "      <td>kumar</td>\n",
       "    </tr>\n",
       "    <tr>\n",
       "      <th>5</th>\n",
       "      <td>tylayaweh@gmail.com</td>\n",
       "      <td>tylayaweh</td>\n",
       "      <td>Tyla</td>\n",
       "      <td>Yaweh</td>\n",
       "    </tr>\n",
       "    <tr>\n",
       "      <th>6</th>\n",
       "      <td>postmalone@gmail.com</td>\n",
       "      <td>postmalone</td>\n",
       "      <td>Post</td>\n",
       "      <td>Mealone</td>\n",
       "    </tr>\n",
       "    <tr>\n",
       "      <th>4</th>\n",
       "      <td>snoopdogg@gmial.com</td>\n",
       "      <td>Snoopdog</td>\n",
       "      <td>Snoop</td>\n",
       "      <td>Dogg</td>\n",
       "    </tr>\n",
       "  </tbody>\n",
       "</table>\n",
       "</div>"
      ],
      "text/plain": [
       "                  email_id       full_name first_name last_name\n",
       "3  sanchayswaraj@gmail.com  sanchay swaraj    sanchay    swaraj\n",
       "0  farhanmustafa@gmial.com  farhan mustafa     farhan   mustafa\n",
       "1  nishanthkumar@gmail.com   nishant kumar    nishant     kumar\n",
       "2    akshaykumar@gmail.com    akshay kumar     akshay     kumar\n",
       "5      tylayaweh@gmail.com       tylayaweh       Tyla     Yaweh\n",
       "6     postmalone@gmail.com      postmalone       Post   Mealone\n",
       "4      snoopdogg@gmial.com        Snoopdog      Snoop      Dogg"
      ]
     },
     "execution_count": 185,
     "metadata": {},
     "output_type": "execute_result"
    }
   ],
   "source": [
    "df.sort_values(by='last_name',ascending=False)"
   ]
  },
  {
   "cell_type": "code",
   "execution_count": 186,
   "metadata": {},
   "outputs": [],
   "source": [
    "df.sort_values(by=['last_name','first_name'],ascending=[False,True],inplace=True)"
   ]
  },
  {
   "cell_type": "code",
   "execution_count": 187,
   "metadata": {},
   "outputs": [
    {
     "data": {
      "text/html": [
       "<div>\n",
       "<style scoped>\n",
       "    .dataframe tbody tr th:only-of-type {\n",
       "        vertical-align: middle;\n",
       "    }\n",
       "\n",
       "    .dataframe tbody tr th {\n",
       "        vertical-align: top;\n",
       "    }\n",
       "\n",
       "    .dataframe thead th {\n",
       "        text-align: right;\n",
       "    }\n",
       "</style>\n",
       "<table border=\"1\" class=\"dataframe\">\n",
       "  <thead>\n",
       "    <tr style=\"text-align: right;\">\n",
       "      <th></th>\n",
       "      <th>email_id</th>\n",
       "      <th>full_name</th>\n",
       "      <th>first_name</th>\n",
       "      <th>last_name</th>\n",
       "    </tr>\n",
       "  </thead>\n",
       "  <tbody>\n",
       "    <tr>\n",
       "      <th>3</th>\n",
       "      <td>sanchayswaraj@gmail.com</td>\n",
       "      <td>sanchay swaraj</td>\n",
       "      <td>sanchay</td>\n",
       "      <td>swaraj</td>\n",
       "    </tr>\n",
       "    <tr>\n",
       "      <th>0</th>\n",
       "      <td>farhanmustafa@gmial.com</td>\n",
       "      <td>farhan mustafa</td>\n",
       "      <td>farhan</td>\n",
       "      <td>mustafa</td>\n",
       "    </tr>\n",
       "    <tr>\n",
       "      <th>2</th>\n",
       "      <td>akshaykumar@gmail.com</td>\n",
       "      <td>akshay kumar</td>\n",
       "      <td>akshay</td>\n",
       "      <td>kumar</td>\n",
       "    </tr>\n",
       "    <tr>\n",
       "      <th>1</th>\n",
       "      <td>nishanthkumar@gmail.com</td>\n",
       "      <td>nishant kumar</td>\n",
       "      <td>nishant</td>\n",
       "      <td>kumar</td>\n",
       "    </tr>\n",
       "    <tr>\n",
       "      <th>5</th>\n",
       "      <td>tylayaweh@gmail.com</td>\n",
       "      <td>tylayaweh</td>\n",
       "      <td>Tyla</td>\n",
       "      <td>Yaweh</td>\n",
       "    </tr>\n",
       "    <tr>\n",
       "      <th>6</th>\n",
       "      <td>postmalone@gmail.com</td>\n",
       "      <td>postmalone</td>\n",
       "      <td>Post</td>\n",
       "      <td>Mealone</td>\n",
       "    </tr>\n",
       "    <tr>\n",
       "      <th>4</th>\n",
       "      <td>snoopdogg@gmial.com</td>\n",
       "      <td>Snoopdog</td>\n",
       "      <td>Snoop</td>\n",
       "      <td>Dogg</td>\n",
       "    </tr>\n",
       "  </tbody>\n",
       "</table>\n",
       "</div>"
      ],
      "text/plain": [
       "                  email_id       full_name first_name last_name\n",
       "3  sanchayswaraj@gmail.com  sanchay swaraj    sanchay    swaraj\n",
       "0  farhanmustafa@gmial.com  farhan mustafa     farhan   mustafa\n",
       "2    akshaykumar@gmail.com    akshay kumar     akshay     kumar\n",
       "1  nishanthkumar@gmail.com   nishant kumar    nishant     kumar\n",
       "5      tylayaweh@gmail.com       tylayaweh       Tyla     Yaweh\n",
       "6     postmalone@gmail.com      postmalone       Post   Mealone\n",
       "4      snoopdogg@gmial.com        Snoopdog      Snoop      Dogg"
      ]
     },
     "execution_count": 187,
     "metadata": {},
     "output_type": "execute_result"
    }
   ],
   "source": [
    "df\n"
   ]
  },
  {
   "cell_type": "code",
   "execution_count": 188,
   "metadata": {},
   "outputs": [
    {
     "data": {
      "text/html": [
       "<div>\n",
       "<style scoped>\n",
       "    .dataframe tbody tr th:only-of-type {\n",
       "        vertical-align: middle;\n",
       "    }\n",
       "\n",
       "    .dataframe tbody tr th {\n",
       "        vertical-align: top;\n",
       "    }\n",
       "\n",
       "    .dataframe thead th {\n",
       "        text-align: right;\n",
       "    }\n",
       "</style>\n",
       "<table border=\"1\" class=\"dataframe\">\n",
       "  <thead>\n",
       "    <tr style=\"text-align: right;\">\n",
       "      <th></th>\n",
       "      <th>email_id</th>\n",
       "      <th>full_name</th>\n",
       "      <th>first_name</th>\n",
       "      <th>last_name</th>\n",
       "    </tr>\n",
       "  </thead>\n",
       "  <tbody>\n",
       "    <tr>\n",
       "      <th>0</th>\n",
       "      <td>farhanmustafa@gmial.com</td>\n",
       "      <td>farhan mustafa</td>\n",
       "      <td>farhan</td>\n",
       "      <td>mustafa</td>\n",
       "    </tr>\n",
       "    <tr>\n",
       "      <th>1</th>\n",
       "      <td>nishanthkumar@gmail.com</td>\n",
       "      <td>nishant kumar</td>\n",
       "      <td>nishant</td>\n",
       "      <td>kumar</td>\n",
       "    </tr>\n",
       "    <tr>\n",
       "      <th>2</th>\n",
       "      <td>akshaykumar@gmail.com</td>\n",
       "      <td>akshay kumar</td>\n",
       "      <td>akshay</td>\n",
       "      <td>kumar</td>\n",
       "    </tr>\n",
       "    <tr>\n",
       "      <th>3</th>\n",
       "      <td>sanchayswaraj@gmail.com</td>\n",
       "      <td>sanchay swaraj</td>\n",
       "      <td>sanchay</td>\n",
       "      <td>swaraj</td>\n",
       "    </tr>\n",
       "    <tr>\n",
       "      <th>4</th>\n",
       "      <td>snoopdogg@gmial.com</td>\n",
       "      <td>Snoopdog</td>\n",
       "      <td>Snoop</td>\n",
       "      <td>Dogg</td>\n",
       "    </tr>\n",
       "    <tr>\n",
       "      <th>5</th>\n",
       "      <td>tylayaweh@gmail.com</td>\n",
       "      <td>tylayaweh</td>\n",
       "      <td>Tyla</td>\n",
       "      <td>Yaweh</td>\n",
       "    </tr>\n",
       "    <tr>\n",
       "      <th>6</th>\n",
       "      <td>postmalone@gmail.com</td>\n",
       "      <td>postmalone</td>\n",
       "      <td>Post</td>\n",
       "      <td>Mealone</td>\n",
       "    </tr>\n",
       "  </tbody>\n",
       "</table>\n",
       "</div>"
      ],
      "text/plain": [
       "                  email_id       full_name first_name last_name\n",
       "0  farhanmustafa@gmial.com  farhan mustafa     farhan   mustafa\n",
       "1  nishanthkumar@gmail.com   nishant kumar    nishant     kumar\n",
       "2    akshaykumar@gmail.com    akshay kumar     akshay     kumar\n",
       "3  sanchayswaraj@gmail.com  sanchay swaraj    sanchay    swaraj\n",
       "4      snoopdogg@gmial.com        Snoopdog      Snoop      Dogg\n",
       "5      tylayaweh@gmail.com       tylayaweh       Tyla     Yaweh\n",
       "6     postmalone@gmail.com      postmalone       Post   Mealone"
      ]
     },
     "execution_count": 188,
     "metadata": {},
     "output_type": "execute_result"
    }
   ],
   "source": [
    "df.sort_index(inplace=True)\n",
    "df"
   ]
  },
  {
   "cell_type": "code",
   "execution_count": 189,
   "metadata": {},
   "outputs": [],
   "source": [
    "df3={'email_id':None,'full_name':None,'first_name':None,'last_name':None}\n",
    "df4={'email_id':'ash@gmail.com','full_name':'NA','first_name':None,'last_name':'Missing'}"
   ]
  },
  {
   "cell_type": "code",
   "execution_count": 190,
   "metadata": {},
   "outputs": [
    {
     "data": {
      "text/html": [
       "<div>\n",
       "<style scoped>\n",
       "    .dataframe tbody tr th:only-of-type {\n",
       "        vertical-align: middle;\n",
       "    }\n",
       "\n",
       "    .dataframe tbody tr th {\n",
       "        vertical-align: top;\n",
       "    }\n",
       "\n",
       "    .dataframe thead th {\n",
       "        text-align: right;\n",
       "    }\n",
       "</style>\n",
       "<table border=\"1\" class=\"dataframe\">\n",
       "  <thead>\n",
       "    <tr style=\"text-align: right;\">\n",
       "      <th></th>\n",
       "      <th>email_id</th>\n",
       "      <th>full_name</th>\n",
       "      <th>first_name</th>\n",
       "      <th>last_name</th>\n",
       "    </tr>\n",
       "  </thead>\n",
       "  <tbody>\n",
       "    <tr>\n",
       "      <th>0</th>\n",
       "      <td>farhanmustafa@gmial.com</td>\n",
       "      <td>farhan mustafa</td>\n",
       "      <td>farhan</td>\n",
       "      <td>mustafa</td>\n",
       "    </tr>\n",
       "    <tr>\n",
       "      <th>1</th>\n",
       "      <td>nishanthkumar@gmail.com</td>\n",
       "      <td>nishant kumar</td>\n",
       "      <td>nishant</td>\n",
       "      <td>kumar</td>\n",
       "    </tr>\n",
       "    <tr>\n",
       "      <th>2</th>\n",
       "      <td>akshaykumar@gmail.com</td>\n",
       "      <td>akshay kumar</td>\n",
       "      <td>akshay</td>\n",
       "      <td>kumar</td>\n",
       "    </tr>\n",
       "    <tr>\n",
       "      <th>3</th>\n",
       "      <td>sanchayswaraj@gmail.com</td>\n",
       "      <td>sanchay swaraj</td>\n",
       "      <td>sanchay</td>\n",
       "      <td>swaraj</td>\n",
       "    </tr>\n",
       "    <tr>\n",
       "      <th>4</th>\n",
       "      <td>snoopdogg@gmial.com</td>\n",
       "      <td>Snoopdog</td>\n",
       "      <td>Snoop</td>\n",
       "      <td>Dogg</td>\n",
       "    </tr>\n",
       "    <tr>\n",
       "      <th>5</th>\n",
       "      <td>tylayaweh@gmail.com</td>\n",
       "      <td>tylayaweh</td>\n",
       "      <td>Tyla</td>\n",
       "      <td>Yaweh</td>\n",
       "    </tr>\n",
       "    <tr>\n",
       "      <th>6</th>\n",
       "      <td>postmalone@gmail.com</td>\n",
       "      <td>postmalone</td>\n",
       "      <td>Post</td>\n",
       "      <td>Mealone</td>\n",
       "    </tr>\n",
       "    <tr>\n",
       "      <th>7</th>\n",
       "      <td>None</td>\n",
       "      <td>None</td>\n",
       "      <td>None</td>\n",
       "      <td>None</td>\n",
       "    </tr>\n",
       "    <tr>\n",
       "      <th>8</th>\n",
       "      <td>ash@gmail.com</td>\n",
       "      <td>NA</td>\n",
       "      <td>None</td>\n",
       "      <td>Missing</td>\n",
       "    </tr>\n",
       "  </tbody>\n",
       "</table>\n",
       "</div>"
      ],
      "text/plain": [
       "                  email_id       full_name first_name last_name\n",
       "0  farhanmustafa@gmial.com  farhan mustafa     farhan   mustafa\n",
       "1  nishanthkumar@gmail.com   nishant kumar    nishant     kumar\n",
       "2    akshaykumar@gmail.com    akshay kumar     akshay     kumar\n",
       "3  sanchayswaraj@gmail.com  sanchay swaraj    sanchay    swaraj\n",
       "4      snoopdogg@gmial.com        Snoopdog      Snoop      Dogg\n",
       "5      tylayaweh@gmail.com       tylayaweh       Tyla     Yaweh\n",
       "6     postmalone@gmail.com      postmalone       Post   Mealone\n",
       "7                     None            None       None      None\n",
       "8            ash@gmail.com              NA       None   Missing"
      ]
     },
     "execution_count": 190,
     "metadata": {},
     "output_type": "execute_result"
    }
   ],
   "source": [
    "df=df.append(df3,ignore_index=True)\n",
    "df=df.append(df4,ignore_index=True)\n",
    "df"
   ]
  },
  {
   "cell_type": "code",
   "execution_count": 191,
   "metadata": {},
   "outputs": [
    {
     "data": {
      "text/html": [
       "<div>\n",
       "<style scoped>\n",
       "    .dataframe tbody tr th:only-of-type {\n",
       "        vertical-align: middle;\n",
       "    }\n",
       "\n",
       "    .dataframe tbody tr th {\n",
       "        vertical-align: top;\n",
       "    }\n",
       "\n",
       "    .dataframe thead th {\n",
       "        text-align: right;\n",
       "    }\n",
       "</style>\n",
       "<table border=\"1\" class=\"dataframe\">\n",
       "  <thead>\n",
       "    <tr style=\"text-align: right;\">\n",
       "      <th></th>\n",
       "      <th>email_id</th>\n",
       "      <th>full_name</th>\n",
       "      <th>first_name</th>\n",
       "      <th>last_name</th>\n",
       "    </tr>\n",
       "  </thead>\n",
       "  <tbody>\n",
       "    <tr>\n",
       "      <th>0</th>\n",
       "      <td>farhanmustafa@gmial.com</td>\n",
       "      <td>farhan mustafa</td>\n",
       "      <td>farhan</td>\n",
       "      <td>mustafa</td>\n",
       "    </tr>\n",
       "    <tr>\n",
       "      <th>1</th>\n",
       "      <td>nishanthkumar@gmail.com</td>\n",
       "      <td>nishant kumar</td>\n",
       "      <td>nishant</td>\n",
       "      <td>kumar</td>\n",
       "    </tr>\n",
       "    <tr>\n",
       "      <th>2</th>\n",
       "      <td>akshaykumar@gmail.com</td>\n",
       "      <td>akshay kumar</td>\n",
       "      <td>akshay</td>\n",
       "      <td>kumar</td>\n",
       "    </tr>\n",
       "    <tr>\n",
       "      <th>3</th>\n",
       "      <td>sanchayswaraj@gmail.com</td>\n",
       "      <td>sanchay swaraj</td>\n",
       "      <td>sanchay</td>\n",
       "      <td>swaraj</td>\n",
       "    </tr>\n",
       "    <tr>\n",
       "      <th>4</th>\n",
       "      <td>snoopdogg@gmial.com</td>\n",
       "      <td>Snoopdog</td>\n",
       "      <td>Snoop</td>\n",
       "      <td>Dogg</td>\n",
       "    </tr>\n",
       "    <tr>\n",
       "      <th>5</th>\n",
       "      <td>tylayaweh@gmail.com</td>\n",
       "      <td>tylayaweh</td>\n",
       "      <td>Tyla</td>\n",
       "      <td>Yaweh</td>\n",
       "    </tr>\n",
       "    <tr>\n",
       "      <th>6</th>\n",
       "      <td>postmalone@gmail.com</td>\n",
       "      <td>postmalone</td>\n",
       "      <td>Post</td>\n",
       "      <td>Mealone</td>\n",
       "    </tr>\n",
       "  </tbody>\n",
       "</table>\n",
       "</div>"
      ],
      "text/plain": [
       "                  email_id       full_name first_name last_name\n",
       "0  farhanmustafa@gmial.com  farhan mustafa     farhan   mustafa\n",
       "1  nishanthkumar@gmail.com   nishant kumar    nishant     kumar\n",
       "2    akshaykumar@gmail.com    akshay kumar     akshay     kumar\n",
       "3  sanchayswaraj@gmail.com  sanchay swaraj    sanchay    swaraj\n",
       "4      snoopdogg@gmial.com        Snoopdog      Snoop      Dogg\n",
       "5      tylayaweh@gmail.com       tylayaweh       Tyla     Yaweh\n",
       "6     postmalone@gmail.com      postmalone       Post   Mealone"
      ]
     },
     "execution_count": 191,
     "metadata": {},
     "output_type": "execute_result"
    }
   ],
   "source": [
    "df.dropna()   #this drops "
   ]
  },
  {
   "cell_type": "code",
   "execution_count": 192,
   "metadata": {},
   "outputs": [
    {
     "data": {
      "text/html": [
       "<div>\n",
       "<style scoped>\n",
       "    .dataframe tbody tr th:only-of-type {\n",
       "        vertical-align: middle;\n",
       "    }\n",
       "\n",
       "    .dataframe tbody tr th {\n",
       "        vertical-align: top;\n",
       "    }\n",
       "\n",
       "    .dataframe thead th {\n",
       "        text-align: right;\n",
       "    }\n",
       "</style>\n",
       "<table border=\"1\" class=\"dataframe\">\n",
       "  <thead>\n",
       "    <tr style=\"text-align: right;\">\n",
       "      <th></th>\n",
       "      <th>email_id</th>\n",
       "      <th>full_name</th>\n",
       "      <th>first_name</th>\n",
       "      <th>last_name</th>\n",
       "    </tr>\n",
       "  </thead>\n",
       "  <tbody>\n",
       "    <tr>\n",
       "      <th>0</th>\n",
       "      <td>farhanmustafa@gmial.com</td>\n",
       "      <td>farhan mustafa</td>\n",
       "      <td>farhan</td>\n",
       "      <td>mustafa</td>\n",
       "    </tr>\n",
       "    <tr>\n",
       "      <th>1</th>\n",
       "      <td>nishanthkumar@gmail.com</td>\n",
       "      <td>nishant kumar</td>\n",
       "      <td>nishant</td>\n",
       "      <td>kumar</td>\n",
       "    </tr>\n",
       "    <tr>\n",
       "      <th>2</th>\n",
       "      <td>akshaykumar@gmail.com</td>\n",
       "      <td>akshay kumar</td>\n",
       "      <td>akshay</td>\n",
       "      <td>kumar</td>\n",
       "    </tr>\n",
       "    <tr>\n",
       "      <th>3</th>\n",
       "      <td>sanchayswaraj@gmail.com</td>\n",
       "      <td>sanchay swaraj</td>\n",
       "      <td>sanchay</td>\n",
       "      <td>swaraj</td>\n",
       "    </tr>\n",
       "    <tr>\n",
       "      <th>4</th>\n",
       "      <td>snoopdogg@gmial.com</td>\n",
       "      <td>Snoopdog</td>\n",
       "      <td>Snoop</td>\n",
       "      <td>Dogg</td>\n",
       "    </tr>\n",
       "    <tr>\n",
       "      <th>5</th>\n",
       "      <td>tylayaweh@gmail.com</td>\n",
       "      <td>tylayaweh</td>\n",
       "      <td>Tyla</td>\n",
       "      <td>Yaweh</td>\n",
       "    </tr>\n",
       "    <tr>\n",
       "      <th>6</th>\n",
       "      <td>postmalone@gmail.com</td>\n",
       "      <td>postmalone</td>\n",
       "      <td>Post</td>\n",
       "      <td>Mealone</td>\n",
       "    </tr>\n",
       "    <tr>\n",
       "      <th>8</th>\n",
       "      <td>ash@gmail.com</td>\n",
       "      <td>NA</td>\n",
       "      <td>None</td>\n",
       "      <td>Missing</td>\n",
       "    </tr>\n",
       "  </tbody>\n",
       "</table>\n",
       "</div>"
      ],
      "text/plain": [
       "                  email_id       full_name first_name last_name\n",
       "0  farhanmustafa@gmial.com  farhan mustafa     farhan   mustafa\n",
       "1  nishanthkumar@gmail.com   nishant kumar    nishant     kumar\n",
       "2    akshaykumar@gmail.com    akshay kumar     akshay     kumar\n",
       "3  sanchayswaraj@gmail.com  sanchay swaraj    sanchay    swaraj\n",
       "4      snoopdogg@gmial.com        Snoopdog      Snoop      Dogg\n",
       "5      tylayaweh@gmail.com       tylayaweh       Tyla     Yaweh\n",
       "6     postmalone@gmail.com      postmalone       Post   Mealone\n",
       "8            ash@gmail.com              NA       None   Missing"
      ]
     },
     "execution_count": 192,
     "metadata": {},
     "output_type": "execute_result"
    }
   ],
   "source": [
    "df.dropna(axis='index',how='all')   #it only drops if all values of a rows are missing"
   ]
  },
  {
   "cell_type": "code",
   "execution_count": 193,
   "metadata": {},
   "outputs": [
    {
     "data": {
      "text/html": [
       "<div>\n",
       "<style scoped>\n",
       "    .dataframe tbody tr th:only-of-type {\n",
       "        vertical-align: middle;\n",
       "    }\n",
       "\n",
       "    .dataframe tbody tr th {\n",
       "        vertical-align: top;\n",
       "    }\n",
       "\n",
       "    .dataframe thead th {\n",
       "        text-align: right;\n",
       "    }\n",
       "</style>\n",
       "<table border=\"1\" class=\"dataframe\">\n",
       "  <thead>\n",
       "    <tr style=\"text-align: right;\">\n",
       "      <th></th>\n",
       "    </tr>\n",
       "  </thead>\n",
       "  <tbody>\n",
       "    <tr>\n",
       "      <th>0</th>\n",
       "    </tr>\n",
       "    <tr>\n",
       "      <th>1</th>\n",
       "    </tr>\n",
       "    <tr>\n",
       "      <th>2</th>\n",
       "    </tr>\n",
       "    <tr>\n",
       "      <th>3</th>\n",
       "    </tr>\n",
       "    <tr>\n",
       "      <th>4</th>\n",
       "    </tr>\n",
       "    <tr>\n",
       "      <th>5</th>\n",
       "    </tr>\n",
       "    <tr>\n",
       "      <th>6</th>\n",
       "    </tr>\n",
       "    <tr>\n",
       "      <th>7</th>\n",
       "    </tr>\n",
       "    <tr>\n",
       "      <th>8</th>\n",
       "    </tr>\n",
       "  </tbody>\n",
       "</table>\n",
       "</div>"
      ],
      "text/plain": [
       "Empty DataFrame\n",
       "Columns: []\n",
       "Index: [0, 1, 2, 3, 4, 5, 6, 7, 8]"
      ]
     },
     "execution_count": 193,
     "metadata": {},
     "output_type": "execute_result"
    }
   ],
   "source": [
    "df.dropna(axis='columns',how='any')  #bcoz we have some or the other missing in all the columns"
   ]
  },
  {
   "cell_type": "code",
   "execution_count": 194,
   "metadata": {},
   "outputs": [
    {
     "data": {
      "text/html": [
       "<div>\n",
       "<style scoped>\n",
       "    .dataframe tbody tr th:only-of-type {\n",
       "        vertical-align: middle;\n",
       "    }\n",
       "\n",
       "    .dataframe tbody tr th {\n",
       "        vertical-align: top;\n",
       "    }\n",
       "\n",
       "    .dataframe thead th {\n",
       "        text-align: right;\n",
       "    }\n",
       "</style>\n",
       "<table border=\"1\" class=\"dataframe\">\n",
       "  <thead>\n",
       "    <tr style=\"text-align: right;\">\n",
       "      <th></th>\n",
       "      <th>email_id</th>\n",
       "      <th>full_name</th>\n",
       "      <th>first_name</th>\n",
       "      <th>last_name</th>\n",
       "    </tr>\n",
       "  </thead>\n",
       "  <tbody>\n",
       "    <tr>\n",
       "      <th>0</th>\n",
       "      <td>farhanmustafa@gmial.com</td>\n",
       "      <td>farhan mustafa</td>\n",
       "      <td>farhan</td>\n",
       "      <td>mustafa</td>\n",
       "    </tr>\n",
       "    <tr>\n",
       "      <th>1</th>\n",
       "      <td>nishanthkumar@gmail.com</td>\n",
       "      <td>nishant kumar</td>\n",
       "      <td>nishant</td>\n",
       "      <td>kumar</td>\n",
       "    </tr>\n",
       "    <tr>\n",
       "      <th>2</th>\n",
       "      <td>akshaykumar@gmail.com</td>\n",
       "      <td>akshay kumar</td>\n",
       "      <td>akshay</td>\n",
       "      <td>kumar</td>\n",
       "    </tr>\n",
       "    <tr>\n",
       "      <th>3</th>\n",
       "      <td>sanchayswaraj@gmail.com</td>\n",
       "      <td>sanchay swaraj</td>\n",
       "      <td>sanchay</td>\n",
       "      <td>swaraj</td>\n",
       "    </tr>\n",
       "    <tr>\n",
       "      <th>4</th>\n",
       "      <td>snoopdogg@gmial.com</td>\n",
       "      <td>Snoopdog</td>\n",
       "      <td>Snoop</td>\n",
       "      <td>Dogg</td>\n",
       "    </tr>\n",
       "    <tr>\n",
       "      <th>5</th>\n",
       "      <td>tylayaweh@gmail.com</td>\n",
       "      <td>tylayaweh</td>\n",
       "      <td>Tyla</td>\n",
       "      <td>Yaweh</td>\n",
       "    </tr>\n",
       "    <tr>\n",
       "      <th>6</th>\n",
       "      <td>postmalone@gmail.com</td>\n",
       "      <td>postmalone</td>\n",
       "      <td>Post</td>\n",
       "      <td>Mealone</td>\n",
       "    </tr>\n",
       "  </tbody>\n",
       "</table>\n",
       "</div>"
      ],
      "text/plain": [
       "                  email_id       full_name first_name last_name\n",
       "0  farhanmustafa@gmial.com  farhan mustafa     farhan   mustafa\n",
       "1  nishanthkumar@gmail.com   nishant kumar    nishant     kumar\n",
       "2    akshaykumar@gmail.com    akshay kumar     akshay     kumar\n",
       "3  sanchayswaraj@gmail.com  sanchay swaraj    sanchay    swaraj\n",
       "4      snoopdogg@gmial.com        Snoopdog      Snoop      Dogg\n",
       "5      tylayaweh@gmail.com       tylayaweh       Tyla     Yaweh\n",
       "6     postmalone@gmail.com      postmalone       Post   Mealone"
      ]
     },
     "execution_count": 194,
     "metadata": {},
     "output_type": "execute_result"
    }
   ],
   "source": [
    "df.dropna(axis='index',how='any',subset=['first_name'])  #this subset() checks the sepcific column and drops if not present"
   ]
  },
  {
   "cell_type": "code",
   "execution_count": 195,
   "metadata": {},
   "outputs": [
    {
     "data": {
      "text/html": [
       "<div>\n",
       "<style scoped>\n",
       "    .dataframe tbody tr th:only-of-type {\n",
       "        vertical-align: middle;\n",
       "    }\n",
       "\n",
       "    .dataframe tbody tr th {\n",
       "        vertical-align: top;\n",
       "    }\n",
       "\n",
       "    .dataframe thead th {\n",
       "        text-align: right;\n",
       "    }\n",
       "</style>\n",
       "<table border=\"1\" class=\"dataframe\">\n",
       "  <thead>\n",
       "    <tr style=\"text-align: right;\">\n",
       "      <th></th>\n",
       "      <th>email_id</th>\n",
       "      <th>full_name</th>\n",
       "      <th>first_name</th>\n",
       "      <th>last_name</th>\n",
       "    </tr>\n",
       "  </thead>\n",
       "  <tbody>\n",
       "    <tr>\n",
       "      <th>0</th>\n",
       "      <td>farhanmustafa@gmial.com</td>\n",
       "      <td>farhan mustafa</td>\n",
       "      <td>farhan</td>\n",
       "      <td>mustafa</td>\n",
       "    </tr>\n",
       "    <tr>\n",
       "      <th>1</th>\n",
       "      <td>nishanthkumar@gmail.com</td>\n",
       "      <td>nishant kumar</td>\n",
       "      <td>nishant</td>\n",
       "      <td>kumar</td>\n",
       "    </tr>\n",
       "    <tr>\n",
       "      <th>2</th>\n",
       "      <td>akshaykumar@gmail.com</td>\n",
       "      <td>akshay kumar</td>\n",
       "      <td>akshay</td>\n",
       "      <td>kumar</td>\n",
       "    </tr>\n",
       "    <tr>\n",
       "      <th>3</th>\n",
       "      <td>sanchayswaraj@gmail.com</td>\n",
       "      <td>sanchay swaraj</td>\n",
       "      <td>sanchay</td>\n",
       "      <td>swaraj</td>\n",
       "    </tr>\n",
       "    <tr>\n",
       "      <th>4</th>\n",
       "      <td>snoopdogg@gmial.com</td>\n",
       "      <td>Snoopdog</td>\n",
       "      <td>Snoop</td>\n",
       "      <td>Dogg</td>\n",
       "    </tr>\n",
       "    <tr>\n",
       "      <th>5</th>\n",
       "      <td>tylayaweh@gmail.com</td>\n",
       "      <td>tylayaweh</td>\n",
       "      <td>Tyla</td>\n",
       "      <td>Yaweh</td>\n",
       "    </tr>\n",
       "    <tr>\n",
       "      <th>6</th>\n",
       "      <td>postmalone@gmail.com</td>\n",
       "      <td>postmalone</td>\n",
       "      <td>Post</td>\n",
       "      <td>Mealone</td>\n",
       "    </tr>\n",
       "    <tr>\n",
       "      <th>8</th>\n",
       "      <td>ash@gmail.com</td>\n",
       "      <td>NA</td>\n",
       "      <td>None</td>\n",
       "      <td>Missing</td>\n",
       "    </tr>\n",
       "  </tbody>\n",
       "</table>\n",
       "</div>"
      ],
      "text/plain": [
       "                  email_id       full_name first_name last_name\n",
       "0  farhanmustafa@gmial.com  farhan mustafa     farhan   mustafa\n",
       "1  nishanthkumar@gmail.com   nishant kumar    nishant     kumar\n",
       "2    akshaykumar@gmail.com    akshay kumar     akshay     kumar\n",
       "3  sanchayswaraj@gmail.com  sanchay swaraj    sanchay    swaraj\n",
       "4      snoopdogg@gmial.com        Snoopdog      Snoop      Dogg\n",
       "5      tylayaweh@gmail.com       tylayaweh       Tyla     Yaweh\n",
       "6     postmalone@gmail.com      postmalone       Post   Mealone\n",
       "8            ash@gmail.com              NA       None   Missing"
      ]
     },
     "execution_count": 195,
     "metadata": {},
     "output_type": "execute_result"
    }
   ],
   "source": [
    "df.dropna(axis='index',how='any',subset=['email_id'])"
   ]
  },
  {
   "cell_type": "code",
   "execution_count": 196,
   "metadata": {},
   "outputs": [],
   "source": [
    "import numpy as np"
   ]
  },
  {
   "cell_type": "code",
   "execution_count": 197,
   "metadata": {},
   "outputs": [
    {
     "data": {
      "text/html": [
       "<div>\n",
       "<style scoped>\n",
       "    .dataframe tbody tr th:only-of-type {\n",
       "        vertical-align: middle;\n",
       "    }\n",
       "\n",
       "    .dataframe tbody tr th {\n",
       "        vertical-align: top;\n",
       "    }\n",
       "\n",
       "    .dataframe thead th {\n",
       "        text-align: right;\n",
       "    }\n",
       "</style>\n",
       "<table border=\"1\" class=\"dataframe\">\n",
       "  <thead>\n",
       "    <tr style=\"text-align: right;\">\n",
       "      <th></th>\n",
       "      <th>email_id</th>\n",
       "      <th>full_name</th>\n",
       "      <th>first_name</th>\n",
       "      <th>last_name</th>\n",
       "    </tr>\n",
       "  </thead>\n",
       "  <tbody>\n",
       "    <tr>\n",
       "      <th>0</th>\n",
       "      <td>farhanmustafa@gmial.com</td>\n",
       "      <td>farhan mustafa</td>\n",
       "      <td>farhan</td>\n",
       "      <td>mustafa</td>\n",
       "    </tr>\n",
       "    <tr>\n",
       "      <th>1</th>\n",
       "      <td>nishanthkumar@gmail.com</td>\n",
       "      <td>nishant kumar</td>\n",
       "      <td>nishant</td>\n",
       "      <td>kumar</td>\n",
       "    </tr>\n",
       "    <tr>\n",
       "      <th>2</th>\n",
       "      <td>akshaykumar@gmail.com</td>\n",
       "      <td>akshay kumar</td>\n",
       "      <td>akshay</td>\n",
       "      <td>kumar</td>\n",
       "    </tr>\n",
       "    <tr>\n",
       "      <th>3</th>\n",
       "      <td>sanchayswaraj@gmail.com</td>\n",
       "      <td>sanchay swaraj</td>\n",
       "      <td>sanchay</td>\n",
       "      <td>swaraj</td>\n",
       "    </tr>\n",
       "    <tr>\n",
       "      <th>4</th>\n",
       "      <td>snoopdogg@gmial.com</td>\n",
       "      <td>Snoopdog</td>\n",
       "      <td>Snoop</td>\n",
       "      <td>Dogg</td>\n",
       "    </tr>\n",
       "    <tr>\n",
       "      <th>5</th>\n",
       "      <td>tylayaweh@gmail.com</td>\n",
       "      <td>tylayaweh</td>\n",
       "      <td>Tyla</td>\n",
       "      <td>Yaweh</td>\n",
       "    </tr>\n",
       "    <tr>\n",
       "      <th>6</th>\n",
       "      <td>postmalone@gmail.com</td>\n",
       "      <td>postmalone</td>\n",
       "      <td>Post</td>\n",
       "      <td>Mealone</td>\n",
       "    </tr>\n",
       "    <tr>\n",
       "      <th>7</th>\n",
       "      <td>None</td>\n",
       "      <td>None</td>\n",
       "      <td>None</td>\n",
       "      <td>None</td>\n",
       "    </tr>\n",
       "    <tr>\n",
       "      <th>8</th>\n",
       "      <td>ash@gmail.com</td>\n",
       "      <td>NaN</td>\n",
       "      <td>None</td>\n",
       "      <td>NaN</td>\n",
       "    </tr>\n",
       "  </tbody>\n",
       "</table>\n",
       "</div>"
      ],
      "text/plain": [
       "                  email_id       full_name first_name last_name\n",
       "0  farhanmustafa@gmial.com  farhan mustafa     farhan   mustafa\n",
       "1  nishanthkumar@gmail.com   nishant kumar    nishant     kumar\n",
       "2    akshaykumar@gmail.com    akshay kumar     akshay     kumar\n",
       "3  sanchayswaraj@gmail.com  sanchay swaraj    sanchay    swaraj\n",
       "4      snoopdogg@gmial.com        Snoopdog      Snoop      Dogg\n",
       "5      tylayaweh@gmail.com       tylayaweh       Tyla     Yaweh\n",
       "6     postmalone@gmail.com      postmalone       Post   Mealone\n",
       "7                     None            None       None      None\n",
       "8            ash@gmail.com             NaN       None       NaN"
      ]
     },
     "execution_count": 197,
     "metadata": {},
     "output_type": "execute_result"
    }
   ],
   "source": [
    "df.replace('Missing',np.nan,inplace=True) #np.nan  is not a number of numpy module\n",
    "df.replace('NA',np.nan,inplace=True)\n",
    "df"
   ]
  },
  {
   "cell_type": "code",
   "execution_count": 198,
   "metadata": {},
   "outputs": [
    {
     "data": {
      "text/html": [
       "<div>\n",
       "<style scoped>\n",
       "    .dataframe tbody tr th:only-of-type {\n",
       "        vertical-align: middle;\n",
       "    }\n",
       "\n",
       "    .dataframe tbody tr th {\n",
       "        vertical-align: top;\n",
       "    }\n",
       "\n",
       "    .dataframe thead th {\n",
       "        text-align: right;\n",
       "    }\n",
       "</style>\n",
       "<table border=\"1\" class=\"dataframe\">\n",
       "  <thead>\n",
       "    <tr style=\"text-align: right;\">\n",
       "      <th></th>\n",
       "      <th>email_id</th>\n",
       "      <th>full_name</th>\n",
       "      <th>first_name</th>\n",
       "      <th>last_name</th>\n",
       "    </tr>\n",
       "  </thead>\n",
       "  <tbody>\n",
       "    <tr>\n",
       "      <th>0</th>\n",
       "      <td>False</td>\n",
       "      <td>False</td>\n",
       "      <td>False</td>\n",
       "      <td>False</td>\n",
       "    </tr>\n",
       "    <tr>\n",
       "      <th>1</th>\n",
       "      <td>False</td>\n",
       "      <td>False</td>\n",
       "      <td>False</td>\n",
       "      <td>False</td>\n",
       "    </tr>\n",
       "    <tr>\n",
       "      <th>2</th>\n",
       "      <td>False</td>\n",
       "      <td>False</td>\n",
       "      <td>False</td>\n",
       "      <td>False</td>\n",
       "    </tr>\n",
       "    <tr>\n",
       "      <th>3</th>\n",
       "      <td>False</td>\n",
       "      <td>False</td>\n",
       "      <td>False</td>\n",
       "      <td>False</td>\n",
       "    </tr>\n",
       "    <tr>\n",
       "      <th>4</th>\n",
       "      <td>False</td>\n",
       "      <td>False</td>\n",
       "      <td>False</td>\n",
       "      <td>False</td>\n",
       "    </tr>\n",
       "    <tr>\n",
       "      <th>5</th>\n",
       "      <td>False</td>\n",
       "      <td>False</td>\n",
       "      <td>False</td>\n",
       "      <td>False</td>\n",
       "    </tr>\n",
       "    <tr>\n",
       "      <th>6</th>\n",
       "      <td>False</td>\n",
       "      <td>False</td>\n",
       "      <td>False</td>\n",
       "      <td>False</td>\n",
       "    </tr>\n",
       "    <tr>\n",
       "      <th>7</th>\n",
       "      <td>True</td>\n",
       "      <td>True</td>\n",
       "      <td>True</td>\n",
       "      <td>True</td>\n",
       "    </tr>\n",
       "    <tr>\n",
       "      <th>8</th>\n",
       "      <td>False</td>\n",
       "      <td>True</td>\n",
       "      <td>True</td>\n",
       "      <td>True</td>\n",
       "    </tr>\n",
       "  </tbody>\n",
       "</table>\n",
       "</div>"
      ],
      "text/plain": [
       "   email_id  full_name  first_name  last_name\n",
       "0     False      False       False      False\n",
       "1     False      False       False      False\n",
       "2     False      False       False      False\n",
       "3     False      False       False      False\n",
       "4     False      False       False      False\n",
       "5     False      False       False      False\n",
       "6     False      False       False      False\n",
       "7      True       True        True       True\n",
       "8     False       True        True       True"
      ]
     },
     "execution_count": 198,
     "metadata": {},
     "output_type": "execute_result"
    }
   ],
   "source": [
    "df.isna()"
   ]
  },
  {
   "cell_type": "code",
   "execution_count": 199,
   "metadata": {},
   "outputs": [
    {
     "data": {
      "text/html": [
       "<div>\n",
       "<style scoped>\n",
       "    .dataframe tbody tr th:only-of-type {\n",
       "        vertical-align: middle;\n",
       "    }\n",
       "\n",
       "    .dataframe tbody tr th {\n",
       "        vertical-align: top;\n",
       "    }\n",
       "\n",
       "    .dataframe thead th {\n",
       "        text-align: right;\n",
       "    }\n",
       "</style>\n",
       "<table border=\"1\" class=\"dataframe\">\n",
       "  <thead>\n",
       "    <tr style=\"text-align: right;\">\n",
       "      <th></th>\n",
       "      <th>email_id</th>\n",
       "      <th>full_name</th>\n",
       "      <th>first_name</th>\n",
       "      <th>last_name</th>\n",
       "    </tr>\n",
       "  </thead>\n",
       "  <tbody>\n",
       "    <tr>\n",
       "      <th>0</th>\n",
       "      <td>farhanmustafa@gmial.com</td>\n",
       "      <td>farhan mustafa</td>\n",
       "      <td>farhan</td>\n",
       "      <td>mustafa</td>\n",
       "    </tr>\n",
       "    <tr>\n",
       "      <th>1</th>\n",
       "      <td>nishanthkumar@gmail.com</td>\n",
       "      <td>nishant kumar</td>\n",
       "      <td>nishant</td>\n",
       "      <td>kumar</td>\n",
       "    </tr>\n",
       "    <tr>\n",
       "      <th>2</th>\n",
       "      <td>akshaykumar@gmail.com</td>\n",
       "      <td>akshay kumar</td>\n",
       "      <td>akshay</td>\n",
       "      <td>kumar</td>\n",
       "    </tr>\n",
       "    <tr>\n",
       "      <th>3</th>\n",
       "      <td>sanchayswaraj@gmail.com</td>\n",
       "      <td>sanchay swaraj</td>\n",
       "      <td>sanchay</td>\n",
       "      <td>swaraj</td>\n",
       "    </tr>\n",
       "    <tr>\n",
       "      <th>4</th>\n",
       "      <td>snoopdogg@gmial.com</td>\n",
       "      <td>Snoopdog</td>\n",
       "      <td>Snoop</td>\n",
       "      <td>Dogg</td>\n",
       "    </tr>\n",
       "    <tr>\n",
       "      <th>5</th>\n",
       "      <td>tylayaweh@gmail.com</td>\n",
       "      <td>tylayaweh</td>\n",
       "      <td>Tyla</td>\n",
       "      <td>Yaweh</td>\n",
       "    </tr>\n",
       "    <tr>\n",
       "      <th>6</th>\n",
       "      <td>postmalone@gmail.com</td>\n",
       "      <td>postmalone</td>\n",
       "      <td>Post</td>\n",
       "      <td>Mealone</td>\n",
       "    </tr>\n",
       "    <tr>\n",
       "      <th>7</th>\n",
       "      <td>private</td>\n",
       "      <td>private</td>\n",
       "      <td>private</td>\n",
       "      <td>private</td>\n",
       "    </tr>\n",
       "    <tr>\n",
       "      <th>8</th>\n",
       "      <td>ash@gmail.com</td>\n",
       "      <td>private</td>\n",
       "      <td>private</td>\n",
       "      <td>private</td>\n",
       "    </tr>\n",
       "  </tbody>\n",
       "</table>\n",
       "</div>"
      ],
      "text/plain": [
       "                  email_id       full_name first_name last_name\n",
       "0  farhanmustafa@gmial.com  farhan mustafa     farhan   mustafa\n",
       "1  nishanthkumar@gmail.com   nishant kumar    nishant     kumar\n",
       "2    akshaykumar@gmail.com    akshay kumar     akshay     kumar\n",
       "3  sanchayswaraj@gmail.com  sanchay swaraj    sanchay    swaraj\n",
       "4      snoopdogg@gmial.com        Snoopdog      Snoop      Dogg\n",
       "5      tylayaweh@gmail.com       tylayaweh       Tyla     Yaweh\n",
       "6     postmalone@gmail.com      postmalone       Post   Mealone\n",
       "7                  private         private    private   private\n",
       "8            ash@gmail.com         private    private   private"
      ]
     },
     "execution_count": 199,
     "metadata": {},
     "output_type": "execute_result"
    }
   ],
   "source": [
    "df.fillna('private')             #this fillna() will fill the na locations with the given integer or string"
   ]
  },
  {
   "cell_type": "code",
   "execution_count": 200,
   "metadata": {},
   "outputs": [
    {
     "data": {
      "text/html": [
       "<div>\n",
       "<style scoped>\n",
       "    .dataframe tbody tr th:only-of-type {\n",
       "        vertical-align: middle;\n",
       "    }\n",
       "\n",
       "    .dataframe tbody tr th {\n",
       "        vertical-align: top;\n",
       "    }\n",
       "\n",
       "    .dataframe thead th {\n",
       "        text-align: right;\n",
       "    }\n",
       "</style>\n",
       "<table border=\"1\" class=\"dataframe\">\n",
       "  <thead>\n",
       "    <tr style=\"text-align: right;\">\n",
       "      <th></th>\n",
       "      <th>email_id</th>\n",
       "      <th>full_name</th>\n",
       "      <th>first_name</th>\n",
       "      <th>last_name</th>\n",
       "      <th>age</th>\n",
       "    </tr>\n",
       "  </thead>\n",
       "  <tbody>\n",
       "    <tr>\n",
       "      <th>0</th>\n",
       "      <td>farhanmustafa@gmial.com</td>\n",
       "      <td>farhan mustafa</td>\n",
       "      <td>farhan</td>\n",
       "      <td>mustafa</td>\n",
       "      <td>22</td>\n",
       "    </tr>\n",
       "    <tr>\n",
       "      <th>1</th>\n",
       "      <td>nishanthkumar@gmail.com</td>\n",
       "      <td>nishant kumar</td>\n",
       "      <td>nishant</td>\n",
       "      <td>kumar</td>\n",
       "      <td>23</td>\n",
       "    </tr>\n",
       "    <tr>\n",
       "      <th>2</th>\n",
       "      <td>akshaykumar@gmail.com</td>\n",
       "      <td>akshay kumar</td>\n",
       "      <td>akshay</td>\n",
       "      <td>kumar</td>\n",
       "      <td>20</td>\n",
       "    </tr>\n",
       "    <tr>\n",
       "      <th>3</th>\n",
       "      <td>sanchayswaraj@gmail.com</td>\n",
       "      <td>sanchay swaraj</td>\n",
       "      <td>sanchay</td>\n",
       "      <td>swaraj</td>\n",
       "      <td>19</td>\n",
       "    </tr>\n",
       "    <tr>\n",
       "      <th>4</th>\n",
       "      <td>snoopdogg@gmial.com</td>\n",
       "      <td>Snoopdog</td>\n",
       "      <td>Snoop</td>\n",
       "      <td>Dogg</td>\n",
       "      <td>43</td>\n",
       "    </tr>\n",
       "    <tr>\n",
       "      <th>5</th>\n",
       "      <td>tylayaweh@gmail.com</td>\n",
       "      <td>tylayaweh</td>\n",
       "      <td>Tyla</td>\n",
       "      <td>Yaweh</td>\n",
       "      <td>29</td>\n",
       "    </tr>\n",
       "    <tr>\n",
       "      <th>6</th>\n",
       "      <td>postmalone@gmail.com</td>\n",
       "      <td>postmalone</td>\n",
       "      <td>Post</td>\n",
       "      <td>Mealone</td>\n",
       "      <td>35</td>\n",
       "    </tr>\n",
       "    <tr>\n",
       "      <th>7</th>\n",
       "      <td>None</td>\n",
       "      <td>None</td>\n",
       "      <td>None</td>\n",
       "      <td>None</td>\n",
       "      <td>NaN</td>\n",
       "    </tr>\n",
       "    <tr>\n",
       "      <th>8</th>\n",
       "      <td>ash@gmail.com</td>\n",
       "      <td>NaN</td>\n",
       "      <td>None</td>\n",
       "      <td>NaN</td>\n",
       "      <td>None</td>\n",
       "    </tr>\n",
       "  </tbody>\n",
       "</table>\n",
       "</div>"
      ],
      "text/plain": [
       "                  email_id       full_name first_name last_name   age\n",
       "0  farhanmustafa@gmial.com  farhan mustafa     farhan   mustafa    22\n",
       "1  nishanthkumar@gmail.com   nishant kumar    nishant     kumar    23\n",
       "2    akshaykumar@gmail.com    akshay kumar     akshay     kumar    20\n",
       "3  sanchayswaraj@gmail.com  sanchay swaraj    sanchay    swaraj    19\n",
       "4      snoopdogg@gmial.com        Snoopdog      Snoop      Dogg    43\n",
       "5      tylayaweh@gmail.com       tylayaweh       Tyla     Yaweh    29\n",
       "6     postmalone@gmail.com      postmalone       Post   Mealone    35\n",
       "7                     None            None       None      None   NaN\n",
       "8            ash@gmail.com             NaN       None       NaN  None"
      ]
     },
     "execution_count": 200,
     "metadata": {},
     "output_type": "execute_result"
    }
   ],
   "source": [
    "df['age']=['22','23','20','19','43','29','35',np.nan,None]    #added a new column \n",
    "df"
   ]
  },
  {
   "cell_type": "code",
   "execution_count": 201,
   "metadata": {},
   "outputs": [],
   "source": [
    "#df['age'].mean()    # error because age column here is a object not a int to take mean "
   ]
  },
  {
   "cell_type": "code",
   "execution_count": 202,
   "metadata": {},
   "outputs": [
    {
     "data": {
      "text/plain": [
       "float"
      ]
     },
     "execution_count": 202,
     "metadata": {},
     "output_type": "execute_result"
    }
   ],
   "source": [
    "type(np.nan)    "
   ]
  },
  {
   "cell_type": "code",
   "execution_count": 203,
   "metadata": {},
   "outputs": [],
   "source": [
    "df['age']=df['age'].astype(float)    #astype() is used to change the datatype with some rules"
   ]
  },
  {
   "cell_type": "code",
   "execution_count": 204,
   "metadata": {},
   "outputs": [
    {
     "data": {
      "text/plain": [
       "email_id       object\n",
       "full_name      object\n",
       "first_name     object\n",
       "last_name      object\n",
       "age           float64\n",
       "dtype: object"
      ]
     },
     "execution_count": 204,
     "metadata": {},
     "output_type": "execute_result"
    }
   ],
   "source": [
    "df.dtypes  #we can see we changed the datatype of the whole column to float "
   ]
  },
  {
   "cell_type": "code",
   "execution_count": 205,
   "metadata": {},
   "outputs": [
    {
     "data": {
      "text/plain": [
       "27.285714285714285"
      ]
     },
     "execution_count": 205,
     "metadata": {},
     "output_type": "execute_result"
    }
   ],
   "source": [
    "df['age'].mean() "
   ]
  },
  {
   "cell_type": "code",
   "execution_count": 206,
   "metadata": {},
   "outputs": [],
   "source": [
    "# df.to_csv('friends.csv')"
   ]
  },
  {
   "cell_type": "code",
   "execution_count": 207,
   "metadata": {},
   "outputs": [],
   "source": [
    "# df.to_csv('friendst.csv',sep='\\t')"
   ]
  },
  {
   "cell_type": "code",
   "execution_count": 208,
   "metadata": {},
   "outputs": [],
   "source": [
    "# df.to_excel('friendsxl.xlsx')      #to_excel is to save the "
   ]
  },
  {
   "cell_type": "code",
   "execution_count": 209,
   "metadata": {},
   "outputs": [],
   "source": [
    "xl_df=pd.read_excel('friendsxl.xlsx')"
   ]
  },
  {
   "cell_type": "code",
   "execution_count": 210,
   "metadata": {},
   "outputs": [
    {
     "data": {
      "text/html": [
       "<div>\n",
       "<style scoped>\n",
       "    .dataframe tbody tr th:only-of-type {\n",
       "        vertical-align: middle;\n",
       "    }\n",
       "\n",
       "    .dataframe tbody tr th {\n",
       "        vertical-align: top;\n",
       "    }\n",
       "\n",
       "    .dataframe thead th {\n",
       "        text-align: right;\n",
       "    }\n",
       "</style>\n",
       "<table border=\"1\" class=\"dataframe\">\n",
       "  <thead>\n",
       "    <tr style=\"text-align: right;\">\n",
       "      <th></th>\n",
       "      <th>Unnamed: 0</th>\n",
       "      <th>email_id</th>\n",
       "      <th>full_name</th>\n",
       "      <th>first_name</th>\n",
       "      <th>last_name</th>\n",
       "      <th>age</th>\n",
       "    </tr>\n",
       "  </thead>\n",
       "  <tbody>\n",
       "    <tr>\n",
       "      <th>0</th>\n",
       "      <td>0</td>\n",
       "      <td>farhanmustafa@gmial.com</td>\n",
       "      <td>farhan mustafa</td>\n",
       "      <td>farhan</td>\n",
       "      <td>mustafa</td>\n",
       "      <td>22.0</td>\n",
       "    </tr>\n",
       "    <tr>\n",
       "      <th>1</th>\n",
       "      <td>1</td>\n",
       "      <td>nishanthkumar@gmail.com</td>\n",
       "      <td>nishant kumar</td>\n",
       "      <td>nishant</td>\n",
       "      <td>kumar</td>\n",
       "      <td>23.0</td>\n",
       "    </tr>\n",
       "    <tr>\n",
       "      <th>2</th>\n",
       "      <td>2</td>\n",
       "      <td>akshaykumar@gmail.com</td>\n",
       "      <td>akshay kumar</td>\n",
       "      <td>akshay</td>\n",
       "      <td>kumar</td>\n",
       "      <td>20.0</td>\n",
       "    </tr>\n",
       "    <tr>\n",
       "      <th>3</th>\n",
       "      <td>3</td>\n",
       "      <td>sanchayswaraj@gmail.com</td>\n",
       "      <td>sanchay swaraj</td>\n",
       "      <td>sanchay</td>\n",
       "      <td>swaraj</td>\n",
       "      <td>19.0</td>\n",
       "    </tr>\n",
       "    <tr>\n",
       "      <th>4</th>\n",
       "      <td>4</td>\n",
       "      <td>snoopdogg@gmial.com</td>\n",
       "      <td>Snoopdog</td>\n",
       "      <td>Snoop</td>\n",
       "      <td>Dogg</td>\n",
       "      <td>43.0</td>\n",
       "    </tr>\n",
       "    <tr>\n",
       "      <th>5</th>\n",
       "      <td>5</td>\n",
       "      <td>tylayaweh@gmail.com</td>\n",
       "      <td>tylayaweh</td>\n",
       "      <td>Tyla</td>\n",
       "      <td>Yaweh</td>\n",
       "      <td>29.0</td>\n",
       "    </tr>\n",
       "    <tr>\n",
       "      <th>6</th>\n",
       "      <td>6</td>\n",
       "      <td>postmalone@gmail.com</td>\n",
       "      <td>postmalone</td>\n",
       "      <td>Post</td>\n",
       "      <td>Mealone</td>\n",
       "      <td>35.0</td>\n",
       "    </tr>\n",
       "    <tr>\n",
       "      <th>7</th>\n",
       "      <td>7</td>\n",
       "      <td>NaN</td>\n",
       "      <td>NaN</td>\n",
       "      <td>NaN</td>\n",
       "      <td>NaN</td>\n",
       "      <td>NaN</td>\n",
       "    </tr>\n",
       "    <tr>\n",
       "      <th>8</th>\n",
       "      <td>8</td>\n",
       "      <td>ash@gmail.com</td>\n",
       "      <td>NaN</td>\n",
       "      <td>NaN</td>\n",
       "      <td>NaN</td>\n",
       "      <td>NaN</td>\n",
       "    </tr>\n",
       "  </tbody>\n",
       "</table>\n",
       "</div>"
      ],
      "text/plain": [
       "   Unnamed: 0                 email_id       full_name first_name last_name  \\\n",
       "0           0  farhanmustafa@gmial.com  farhan mustafa     farhan   mustafa   \n",
       "1           1  nishanthkumar@gmail.com   nishant kumar    nishant     kumar   \n",
       "2           2    akshaykumar@gmail.com    akshay kumar     akshay     kumar   \n",
       "3           3  sanchayswaraj@gmail.com  sanchay swaraj    sanchay    swaraj   \n",
       "4           4      snoopdogg@gmial.com        Snoopdog      Snoop      Dogg   \n",
       "5           5      tylayaweh@gmail.com       tylayaweh       Tyla     Yaweh   \n",
       "6           6     postmalone@gmail.com      postmalone       Post   Mealone   \n",
       "7           7                      NaN             NaN        NaN       NaN   \n",
       "8           8            ash@gmail.com             NaN        NaN       NaN   \n",
       "\n",
       "    age  \n",
       "0  22.0  \n",
       "1  23.0  \n",
       "2  20.0  \n",
       "3  19.0  \n",
       "4  43.0  \n",
       "5  29.0  \n",
       "6  35.0  \n",
       "7   NaN  \n",
       "8   NaN  "
      ]
     },
     "execution_count": 210,
     "metadata": {},
     "output_type": "execute_result"
    }
   ],
   "source": [
    "xl_df"
   ]
  },
  {
   "cell_type": "code",
   "execution_count": 211,
   "metadata": {},
   "outputs": [],
   "source": [
    "# df.to_json('friendsjs.json')"
   ]
  },
  {
   "cell_type": "code",
   "execution_count": 212,
   "metadata": {},
   "outputs": [
    {
     "data": {
      "text/html": [
       "<div>\n",
       "<style scoped>\n",
       "    .dataframe tbody tr th:only-of-type {\n",
       "        vertical-align: middle;\n",
       "    }\n",
       "\n",
       "    .dataframe tbody tr th {\n",
       "        vertical-align: top;\n",
       "    }\n",
       "\n",
       "    .dataframe thead th {\n",
       "        text-align: right;\n",
       "    }\n",
       "</style>\n",
       "<table border=\"1\" class=\"dataframe\">\n",
       "  <thead>\n",
       "    <tr style=\"text-align: right;\">\n",
       "      <th></th>\n",
       "      <th>email_id</th>\n",
       "      <th>full_name</th>\n",
       "      <th>first_name</th>\n",
       "      <th>last_name</th>\n",
       "      <th>age</th>\n",
       "    </tr>\n",
       "  </thead>\n",
       "  <tbody>\n",
       "    <tr>\n",
       "      <th>0</th>\n",
       "      <td>{'0': 'farhanmustafa@gmial.com', '1': 'nishant...</td>\n",
       "      <td>{'0': 'farhan mustafa', '1': 'nishant kumar', ...</td>\n",
       "      <td>{'0': 'farhan', '1': 'nishant', '2': 'akshay',...</td>\n",
       "      <td>{'0': 'mustafa', '1': 'kumar', '2': 'kumar', '...</td>\n",
       "      <td>{'0': 22.0, '1': 23.0, '2': 20.0, '3': 19.0, '...</td>\n",
       "    </tr>\n",
       "  </tbody>\n",
       "</table>\n",
       "</div>"
      ],
      "text/plain": [
       "                                            email_id  \\\n",
       "0  {'0': 'farhanmustafa@gmial.com', '1': 'nishant...   \n",
       "\n",
       "                                           full_name  \\\n",
       "0  {'0': 'farhan mustafa', '1': 'nishant kumar', ...   \n",
       "\n",
       "                                          first_name  \\\n",
       "0  {'0': 'farhan', '1': 'nishant', '2': 'akshay',...   \n",
       "\n",
       "                                           last_name  \\\n",
       "0  {'0': 'mustafa', '1': 'kumar', '2': 'kumar', '...   \n",
       "\n",
       "                                                 age  \n",
       "0  {'0': 22.0, '1': 23.0, '2': 20.0, '3': 19.0, '...  "
      ]
     },
     "execution_count": 212,
     "metadata": {},
     "output_type": "execute_result"
    }
   ],
   "source": [
    "pd.read_json('friendsjs.json',orient='records',lines=True)"
   ]
  },
  {
   "cell_type": "code",
   "execution_count": 213,
   "metadata": {},
   "outputs": [
    {
     "data": {
      "text/plain": [
       "DatetimeIndex(['2020-10-10', '2020-10-11', '2020-10-12', '2020-10-13',\n",
       "               '2020-10-14', '2020-10-15', '2020-10-16', '2020-10-17',\n",
       "               '2020-10-18', '2020-10-19', '2020-10-20', '2020-10-21',\n",
       "               '2020-10-22', '2020-10-23', '2020-10-24', '2020-10-25',\n",
       "               '2020-10-26', '2020-10-27', '2020-10-28', '2020-10-29',\n",
       "               '2020-10-30', '2020-10-31', '2020-11-01', '2020-11-02',\n",
       "               '2020-11-03', '2020-11-04', '2020-11-05', '2020-11-06',\n",
       "               '2020-11-07', '2020-11-08'],\n",
       "              dtype='datetime64[ns]', freq='D')"
      ]
     },
     "execution_count": 213,
     "metadata": {},
     "output_type": "execute_result"
    }
   ],
   "source": [
    "pd.date_range('20201010',periods=30)"
   ]
  },
  {
   "cell_type": "code",
   "execution_count": null,
   "metadata": {},
   "outputs": [],
   "source": []
  },
  {
   "cell_type": "code",
   "execution_count": null,
   "metadata": {},
   "outputs": [],
   "source": []
  }
 ],
 "metadata": {
  "kernelspec": {
   "display_name": "Python 3",
   "language": "python",
   "name": "python3"
  },
  "language_info": {
   "codemirror_mode": {
    "name": "ipython",
    "version": 3
   },
   "file_extension": ".py",
   "mimetype": "text/x-python",
   "name": "python",
   "nbconvert_exporter": "python",
   "pygments_lexer": "ipython3",
   "version": "3.8.3"
  }
 },
 "nbformat": 4,
 "nbformat_minor": 4
}
